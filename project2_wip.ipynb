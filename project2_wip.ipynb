{
 "cells": [
  {
   "cell_type": "markdown",
   "metadata": {},
   "source": [
    "### Being a data scientist, the real sh*t:\n",
    "\n",
    "* Data scientists in real life have multiple goals that fit under the\n",
    "  general category of \"making sense of data\" or \"turning data into\n",
    "  insights\".\n",
    "  * Often we are focused on building a predictive model, and on\n",
    "    maximizing the predictive model's accuracy. Sometimes this focus\n",
    "    is overemphasized. This is a thing that we do, but this is not the\n",
    "    only thing.\n",
    "    * Things that fail are often still interesting insights.\n",
    "    * Anecdotes are often interesting insights.\n",
    "    * The utility of an analysis is independent of the sophistication\n",
    "      of the algorithm. Sometimes the most mind-blowing insights come\n",
    "      from lists, tables, histograms, or scatter plots. Don't throw\n",
    "      out cool stuff that isn't technically advanced unless absolutely\n",
    "      necessary.\n",
    "      * Don't over-design and under-deliver. For every data science\n",
    "        project that you see or hear about, the version in the data\n",
    "        scientist's head was probably fancier, bigger, more\n",
    "        comprehensive, more elegant, presented in a cooler format, or\n",
    "        with better copy, et cetera, ad nauseum. The reason you heard\n",
    "        about it at all, however, is because it was *finished*, and\n",
    "        published or released in all its heart-wrenching\n",
    "        imperfection.\n",
    "        * Start with something small, and build from there, as\n",
    "        necessary, as time allows.\n",
    "        * Jot down the elaborations, next steps, uh-ohs, or grand\n",
    "          ideas that strike you as you are working. Leave them alone\n",
    "          for a while and then come back and look at them later.\n",
    "          * Many things that feel like huge \"uhoh\"s in the heat of the\n",
    "            moment are actually small deals or even false alarms. The\n",
    "            fewer of these you spend time on, the better.\n",
    "\n",
    "\n"
   ]
  },
  {
   "cell_type": "code",
   "execution_count": 464,
   "metadata": {},
   "outputs": [],
   "source": [
    "import requests\n",
    "import re\n",
    "import time\n",
    "import pandas as pd\n",
    "from bs4 import BeautifulSoup\n",
    "from IPython.core.display import display, HTML"
   ]
  },
  {
   "cell_type": "code",
   "execution_count": 465,
   "metadata": {},
   "outputs": [
    {
     "name": "stdout",
     "output_type": "stream",
     "text": [
      "200\n",
      "200\n"
     ]
    }
   ],
   "source": [
    "#school-begining page:  http://www.ratemyprofessors.com/search.jsp?query=&queryoption=HEADER&stateselect=&country=&dept=&queryBy=teacherName&facetSearch=&schoolName=University+of+California+Berkeley&offset=0&max=20\n",
    "\n",
    "#professor: http://www.ratemyprofessors.com/ShowRatings.jsp?tid=7503\n",
    "\n",
    "# school_url_flex used to generate link of different pages\n",
    "\n",
    "school_url=\"http://www.ratemyprofessors.com/search.jsp?query=&queryoption=HEADER&stateselect=&country=&dept=&queryBy=teacherName&facetSearch=&schoolName=University+of+California+Berkeley&offset=0&max=20\"\n",
    "school_url_flex=\"http://www.ratemyprofessors.com/search.jsp?query=&queryoption=HEADER&stateselect=&country=&dept=&queryBy=teacherName&facetSearch=&schoolName=University+of+California+Berkeley&offset={}&max=20\"\n",
    "prof_url=\"http://www.ratemyprofessors.com/ShowRatings.jsp?tid=7503\"\n",
    "prof_url_flex=\"http://www.ratemyprofessors.com{}\"\n",
    "\n",
    "prof_response=requests.get(prof_url)\n",
    "school_response=requests.get(school_url)\n",
    "\n",
    "print(prof_response.status_code)\n",
    "print(school_response.status_code)\n",
    "\n"
   ]
  },
  {
   "cell_type": "code",
   "execution_count": 466,
   "metadata": {},
   "outputs": [],
   "source": [
    "prof_page=prof_response.text\n",
    "school_page=school_response.text\n",
    "\n",
    "prof_soup = BeautifulSoup(prof_page,\"lxml\")\n",
    "school_soup = BeautifulSoup(school_page,\"lxml\")"
   ]
  },
  {
   "cell_type": "code",
   "execution_count": 467,
   "metadata": {},
   "outputs": [
    {
     "data": {
      "text/plain": [
       "3986"
      ]
     },
     "execution_count": 467,
     "metadata": {},
     "output_type": "execute_result"
    }
   ],
   "source": [
    "# total number of professor listings in a school. Given school soup, retun number of professors\n",
    "\n",
    "def total_professors(school_soup):\n",
    "    for e in school_soup.find_all(class_=\"toppager\"):     #(class_=\"toppager-left\"):\n",
    "        temp=e.find(class_=\"result-count\").text\n",
    "       # name=e.find(class_=\"pfname\").text.strip()+\" \"+e.find(class_=\"plname\").text.strip()\n",
    "        result=re.findall(r'\\d+', temp)\n",
    "        return int(max(result)) #usually the pages shows 1-20 records out of x result. x would be the maximum of the three number\n",
    "\n",
    "total_prof=total_professors(school_soup)\n",
    "total_prof"
   ]
  },
  {
   "cell_type": "code",
   "execution_count": 468,
   "metadata": {},
   "outputs": [
    {
     "data": {
      "text/plain": [
       "200"
      ]
     },
     "execution_count": 468,
     "metadata": {},
     "output_type": "execute_result"
    }
   ],
   "source": [
    "def page_of_listing(total_professors):\n",
    "    pages=total_professors//20+1\n",
    "    return pages\n",
    "\n",
    "test=page_of_listing(total_prof)\n",
    "test"
   ]
  },
  {
   "cell_type": "code",
   "execution_count": 469,
   "metadata": {},
   "outputs": [
    {
     "data": {
      "text/plain": [
       "['http://www.ratemyprofessors.com/search.jsp?query=&queryoption=HEADER&stateselect=&country=&dept=&queryBy=teacherName&facetSearch=&schoolName=University+of+California+Berkeley&offset=0&max=20',\n",
       " 'http://www.ratemyprofessors.com/search.jsp?query=&queryoption=HEADER&stateselect=&country=&dept=&queryBy=teacherName&facetSearch=&schoolName=University+of+California+Berkeley&offset=20&max=20']"
      ]
     },
     "execution_count": 469,
     "metadata": {},
     "output_type": "execute_result"
    }
   ],
   "source": [
    "# given school's flexible url and pages of listing, generae a list of urls of all webpage pages\n",
    "def page_urls(url_flex, pages):\n",
    "    list_urls=[]\n",
    "    for i in range (0,pages):\n",
    "        offset=i*20\n",
    "        page_url=url_flex.format(offset)\n",
    "        list_urls.append(page_url)\n",
    "    return list_urls\n",
    "\n",
    "test_urls=page_urls(school_url_flex, 2)\n",
    "test_urls\n",
    "\n"
   ]
  },
  {
   "cell_type": "code",
   "execution_count": 470,
   "metadata": {},
   "outputs": [
    {
     "data": {
      "text/plain": [
       "['http://www.ratemyprofessors.com/ShowRatings.jsp?tid=628',\n",
       " 'http://www.ratemyprofessors.com/ShowRatings.jsp?tid=814',\n",
       " 'http://www.ratemyprofessors.com/ShowRatings.jsp?tid=7503',\n",
       " 'http://www.ratemyprofessors.com/ShowRatings.jsp?tid=7745',\n",
       " 'http://www.ratemyprofessors.com/ShowRatings.jsp?tid=7746',\n",
       " 'http://www.ratemyprofessors.com/ShowRatings.jsp?tid=8307',\n",
       " 'http://www.ratemyprofessors.com/ShowRatings.jsp?tid=9281',\n",
       " 'http://www.ratemyprofessors.com/ShowRatings.jsp?tid=11539',\n",
       " 'http://www.ratemyprofessors.com/ShowRatings.jsp?tid=12105',\n",
       " 'http://www.ratemyprofessors.com/ShowRatings.jsp?tid=12108',\n",
       " 'http://www.ratemyprofessors.com/ShowRatings.jsp?tid=12109',\n",
       " 'http://www.ratemyprofessors.com/ShowRatings.jsp?tid=12110',\n",
       " 'http://www.ratemyprofessors.com/ShowRatings.jsp?tid=12701',\n",
       " 'http://www.ratemyprofessors.com/ShowRatings.jsp?tid=13904',\n",
       " 'http://www.ratemyprofessors.com/ShowRatings.jsp?tid=13905',\n",
       " 'http://www.ratemyprofessors.com/ShowRatings.jsp?tid=16984',\n",
       " 'http://www.ratemyprofessors.com/ShowRatings.jsp?tid=22042',\n",
       " 'http://www.ratemyprofessors.com/ShowRatings.jsp?tid=22047',\n",
       " 'http://www.ratemyprofessors.com/ShowRatings.jsp?tid=22049',\n",
       " 'http://www.ratemyprofessors.com/ShowRatings.jsp?tid=23221',\n",
       " 'http://www.ratemyprofessors.com/ShowRatings.jsp?tid=25169',\n",
       " 'http://www.ratemyprofessors.com/ShowRatings.jsp?tid=25984',\n",
       " 'http://www.ratemyprofessors.com/ShowRatings.jsp?tid=25988',\n",
       " 'http://www.ratemyprofessors.com/ShowRatings.jsp?tid=25992',\n",
       " 'http://www.ratemyprofessors.com/ShowRatings.jsp?tid=34514',\n",
       " 'http://www.ratemyprofessors.com/ShowRatings.jsp?tid=34516',\n",
       " 'http://www.ratemyprofessors.com/ShowRatings.jsp?tid=35004',\n",
       " 'http://www.ratemyprofessors.com/ShowRatings.jsp?tid=35657',\n",
       " 'http://www.ratemyprofessors.com/ShowRatings.jsp?tid=36956',\n",
       " 'http://www.ratemyprofessors.com/ShowRatings.jsp?tid=38531',\n",
       " 'http://www.ratemyprofessors.com/ShowRatings.jsp?tid=38534',\n",
       " 'http://www.ratemyprofessors.com/ShowRatings.jsp?tid=38536',\n",
       " 'http://www.ratemyprofessors.com/ShowRatings.jsp?tid=38538',\n",
       " 'http://www.ratemyprofessors.com/ShowRatings.jsp?tid=41457',\n",
       " 'http://www.ratemyprofessors.com/ShowRatings.jsp?tid=41469',\n",
       " 'http://www.ratemyprofessors.com/ShowRatings.jsp?tid=41470',\n",
       " 'http://www.ratemyprofessors.com/ShowRatings.jsp?tid=41471',\n",
       " 'http://www.ratemyprofessors.com/ShowRatings.jsp?tid=41475',\n",
       " 'http://www.ratemyprofessors.com/ShowRatings.jsp?tid=48602',\n",
       " 'http://www.ratemyprofessors.com/ShowRatings.jsp?tid=48603']"
      ]
     },
     "execution_count": 470,
     "metadata": {},
     "output_type": "execute_result"
    }
   ],
   "source": [
    "# generate links for professsors. Give list of page_links, find out a list of links for professors\n",
    "\n",
    "\n",
    "def prof_urls(page_links, url_flex):\n",
    "    url_listing=[]\n",
    "    for link in page_links:\n",
    "        temp_response=requests.get(link)\n",
    "        temp_page=temp_response.text\n",
    "        temp_soup = BeautifulSoup(temp_page,\"lxml\")\n",
    "        for e in temp_soup.find_all('li',class_=\"listing PROFESSOR\"):  \n",
    "            temp= e.find('a')['href']\n",
    "            prof_url=prof_url_flex.format(temp)\n",
    "            url_listing.append(prof_url)\n",
    "    return url_listing\n",
    "                    \n",
    "    \n",
    "test_prof_urls=prof_urls(test_urls, prof_url_flex)\n",
    "test_prof_urls\n"
   ]
  },
  {
   "cell_type": "code",
   "execution_count": 471,
   "metadata": {},
   "outputs": [
    {
     "data": {
      "text/plain": [
       "'Bob Calonico'"
      ]
     },
     "execution_count": 471,
     "metadata": {},
     "output_type": "execute_result"
    }
   ],
   "source": [
    "# grab professor name. Given school soup, retun string\n",
    "\n",
    "def get_name(prof_soup):\n",
    "    name=\"\"\n",
    "    for e in prof_soup.find_all(class_=\"profname\"):\n",
    "        name=e.find(class_=\"pfname\").text.strip()+\" \"+e.find(class_=\"plname\").text.strip()\n",
    "    return name\n",
    "\n",
    "get_name (prof_soup)"
   ]
  },
  {
   "cell_type": "code",
   "execution_count": 472,
   "metadata": {
    "scrolled": true
   },
   "outputs": [
    {
     "data": {
      "text/plain": [
       "4.7"
      ]
     },
     "execution_count": 472,
     "metadata": {},
     "output_type": "execute_result"
    }
   ],
   "source": [
    "# Grab the rating of professor. Given Soup, retun float\n",
    "\n",
    "def get_rating(prof_soup):\n",
    "    \n",
    "    temp=prof_soup.find(class_=\"breakdown-container quality\")\n",
    "    while temp: \n",
    "        s=temp.find(class_='grade')\n",
    "        return float(s.text)\n",
    "    else: \n",
    "        return (0)\n",
    "            \n",
    "            \n",
    "get_rating(prof_soup)\n",
    "        \n",
    "# can be list of strings"
   ]
  },
  {
   "cell_type": "code",
   "execution_count": 479,
   "metadata": {},
   "outputs": [
    {
     "data": {
      "text/plain": [
       "1.6"
      ]
     },
     "execution_count": 479,
     "metadata": {},
     "output_type": "execute_result"
    }
   ],
   "source": [
    "# Grab the level of difficulty of the professor. iven Soup, retun float\n",
    "\n",
    "def get_level_of_difficulty(prof_soup):\n",
    "    \n",
    "    while prof_soup.find(class_=\"breakdown-section difficulty\"):\n",
    "    \n",
    "        level_of_difficulty=prof_soup.find(class_=\"breakdown-section difficulty\").stripped_strings\n",
    "\n",
    "        return float(list (level_of_difficulty)[1])\n",
    "    else:\n",
    "        return (2.5) #return average difficulty level if no value\n",
    "\n",
    "get_level_of_difficulty(prof_soup)\n",
    "    \n"
   ]
  },
  {
   "cell_type": "code",
   "execution_count": 474,
   "metadata": {},
   "outputs": [
    {
     "data": {
      "text/plain": [
       "29"
      ]
     },
     "execution_count": 474,
     "metadata": {},
     "output_type": "execute_result"
    }
   ],
   "source": [
    "# Grab total number reviews\n",
    "\n",
    "def get_number_reviews(prof_soup):\n",
    "    \n",
    "    text=prof_soup.find('div',class_=\"table-toggle rating-count active\").text.strip()\n",
    "    num_students=int(re.findall(r'\\d+', text, re.I)[0])\n",
    "    return num_students\n",
    "\n",
    "get_number_reviews(prof_soup)"
   ]
  },
  {
   "cell_type": "code",
   "execution_count": 475,
   "metadata": {},
   "outputs": [
    {
     "data": {
      "text/plain": [
       "['Accessible outside class',\n",
       " 'Amazing lectures',\n",
       " 'Beware of pop quizzes',\n",
       " 'Caring',\n",
       " 'Clear grading criteria',\n",
       " 'Extra credit',\n",
       " 'Get ready to read',\n",
       " 'Gives good feedback',\n",
       " 'Graded by few things',\n",
       " 'Group projects',\n",
       " 'Hilarious',\n",
       " 'Inspirational',\n",
       " 'Lecture heavy',\n",
       " 'Lots of homework',\n",
       " 'Participation matters',\n",
       " 'Respected',\n",
       " \"Skip class? you won't pass.\",\n",
       " 'So many papers',\n",
       " 'Test heavy',\n",
       " 'Tough grader']"
      ]
     },
     "execution_count": 475,
     "metadata": {},
     "output_type": "execute_result"
    }
   ],
   "source": [
    "# get all tags of professor\n",
    "tags_url=\"http://www.ratemyprofessors.com/AddRating.jsp?tid=9670\"\n",
    "tags_page=requests.get(tags_url).text\n",
    "tags_soup = BeautifulSoup(tags_page,\"lxml\")\n",
    "\n",
    "all_tags=[]\n",
    "for e in tags_soup.find_all('div', class_=\"scrollable\"):  #entire tag\n",
    "    for f in e.find_all('a',class_=''): #each tag was embed in tag-box-choosetags class\n",
    "        all_tags.append (f.text.strip().capitalize())\n",
    "all_tags.sort()\n",
    "all_tags\n"
   ]
  },
  {
   "cell_type": "code",
   "execution_count": 476,
   "metadata": {},
   "outputs": [
    {
     "data": {
      "text/plain": [
       "{'Accessible outside class': 0.05,\n",
       " 'Caring': 0.26,\n",
       " 'Hilarious': 0.26,\n",
       " 'Inspirational': 0.32,\n",
       " 'Respected': 0.11}"
      ]
     },
     "execution_count": 476,
     "metadata": {},
     "output_type": "execute_result"
    }
   ],
   "source": [
    "'''\n",
    "all_tags=['Tough Grader',\n",
    " 'Gives good feedback',\n",
    " 'Respected',\n",
    " 'Get ready to read',\n",
    " 'Participation matters',\n",
    " \"Skip class? You won't pass.\",\n",
    " 'LOTS OF HOMEWORK',\n",
    " 'Inspirational',\n",
    " 'BEWARE OF POP QUIZZES',\n",
    " 'ACCESSIBLE OUTSIDE CLASS',\n",
    " 'SO MANY PAPERS',\n",
    " 'Clear grading criteria',\n",
    " 'Hilarious',\n",
    " 'TEST HEAVY',\n",
    " 'GRADED BY FEW THINGS',\n",
    " 'Amazing lectures',\n",
    " 'Caring',\n",
    " 'EXTRA CREDIT',\n",
    " 'GROUP PROJECTS',\n",
    " 'LECTURE HEAVY']\n",
    "'''\n",
    "# Grab the main tags of the professor. Given soup, return tags\n",
    "\n",
    "\n",
    "def get_tags(prof_soup):\n",
    "    list_of_tags=[]\n",
    "    dic={}\n",
    "    total_count=0\n",
    "    for e in prof_soup.find_all(class_=\"tag-box\"):  #entire tag\n",
    "        for f in e.find_all(class_='tag-box-choosetags'): #each tag was embed in tag-box-choosetags class\n",
    "            list_of_tags.append (f.text.strip())\n",
    "    \n",
    "    # sort result list for efficiency\n",
    "    list_of_tags.sort()\n",
    "    \n",
    "    #split text and add the count to each tag\n",
    "    for i in list_of_tags:\n",
    "        category=re.findall(r'[^\\(]*', i, re.I)[0].strip().capitalize()\n",
    "        count=int(re.findall(r'\\d', i, re.I)[0])\n",
    "        dic[category]=count\n",
    "        total_count+=count\n",
    "    \n",
    "    #normalize the count for each tag\n",
    "    for key in dic:\n",
    "        dic[key]=round(dic[key]/total_count,2)\n",
    "           \n",
    "    return dic\n",
    "    \n",
    "    \n",
    "    \n",
    "have=get_tags(prof_soup)\n",
    "have\n"
   ]
  },
  {
   "cell_type": "code",
   "execution_count": 477,
   "metadata": {},
   "outputs": [
    {
     "data": {
      "text/plain": [
       "[0.05, 0, 0, 0.26, 0, 0, 0, 0, 0, 0, 0.26, 0.32, 0, 0, 0, 0.11, 0, 0, 0, 0]"
      ]
     },
     "execution_count": 477,
     "metadata": {},
     "output_type": "execute_result"
    }
   ],
   "source": [
    "# Count and normalize all tags a professor has in review and return a list of counts\n",
    "# All tags is a lit and repreents entire listing of tags. Have_tags is a dictionary with normalized count of tags\n",
    "\n",
    "def tag_count(all_tags, have_tags):\n",
    "    dic={}\n",
    "    lis=[]\n",
    "    for key in all_tags:\n",
    "        dic[key]=0\n",
    "    \n",
    "    for key in have_tags:\n",
    "        if key in all_tags:\n",
    "            dic[key]=have_tags[key]\n",
    "    \n",
    "    for key in all_tags:\n",
    "        lis.append(dic[key])\n",
    "    \n",
    "    return lis\n",
    "\n",
    "tag_count(all_tags, have)\n",
    "          "
   ]
  },
  {
   "cell_type": "code",
   "execution_count": 478,
   "metadata": {},
   "outputs": [
    {
     "name": "stdout",
     "output_type": "stream",
     "text": [
      "Total professors: 3986 Pages: 200\n",
      "0, 1, 2, 3, 4, 5, 6, 7, 8, 9, 10, 11, 12, 13, 14, 15, 16, 17, 18, 19, 20, 21, 22, 23, 24, 25, 26, 27, 28, 29, 30, 31, 32, 33, 34, 35, 36, 37, 38, 39, 40, 41, 42, 43, 44, 45, 46, 47, 48, 49, 50, 51, 52, 53, 54, 55, 56, 57, 58, 59, 60, 61, 62, 63, 64, 65, 66, 67, 68, 69, 70, 71, 72, 73, 74, 75, 76, 77, 78, 79, 80, 81, 82, 83, 84, 85, 86, 87, 88, 89, 90, 91, 92, 93, 94, 95, 96, 97, 98, 99, 100, 101, 102, 103, 104, 105, 106, 107, 108, 109, 110, 111, 112, 113, 114, 115, 116, 117, 118, 119, 120, 121, 122, 123, 124, 125, 126, 127, 128, 129, 130, 131, 132, 133, 134, 135, 136, 137, 138, 139, 140, 141, 142, 143, 144, 145, 146, 147, 148, 149, 150, 151, 152, 153, 154, 155, 156, 157, 158, 159, 160, 161, 162, 163, 164, 165, 166, 167, 168, 169, 170, 171, 172, 173, 174, 175, 176, 177, 178, 179, 180, 181, 182, 183, 184, 185, 186, 187, 188, 189, 190, 191, 192, 193, 194, 195, 196, 197, 198, 199, 200, 201, 202, 203, 204, 205, 206, 207, 208, 209, 210, 211, 212, 213, 214, 215, 216, 217, 218, 219, 220, 221, 222, 223, 224, 225, 226, 227, 228, 229, 230, 231, 232, 233, 234, 235, 236, 237, 238, 239, 240, 241, 242, 243, "
     ]
    },
    {
     "ename": "AttributeError",
     "evalue": "'NoneType' object has no attribute 'stripped_strings'",
     "output_type": "error",
     "traceback": [
      "\u001b[0;31m---------------------------------------------------------------------------\u001b[0m",
      "\u001b[0;31mAttributeError\u001b[0m                            Traceback (most recent call last)",
      "\u001b[0;32m<ipython-input-478-bdeb6e193a35>\u001b[0m in \u001b[0;36m<module>\u001b[0;34m()\u001b[0m\n\u001b[1;32m     30\u001b[0m     \u001b[0;32mreturn\u001b[0m \u001b[0mdata\u001b[0m\u001b[0;34m\u001b[0m\u001b[0m\n\u001b[1;32m     31\u001b[0m \u001b[0;34m\u001b[0m\u001b[0m\n\u001b[0;32m---> 32\u001b[0;31m \u001b[0mresult\u001b[0m\u001b[0;34m=\u001b[0m\u001b[0mscrape_data\u001b[0m\u001b[0;34m(\u001b[0m\u001b[0mtesting_urls\u001b[0m\u001b[0;34m)\u001b[0m\u001b[0;34m\u001b[0m\u001b[0m\n\u001b[0m\u001b[1;32m     33\u001b[0m \u001b[0;34m\u001b[0m\u001b[0m\n\u001b[1;32m     34\u001b[0m \u001b[0;34m\u001b[0m\u001b[0m\n",
      "\u001b[0;32m<ipython-input-478-bdeb6e193a35>\u001b[0m in \u001b[0;36mscrape_data\u001b[0;34m(urls)\u001b[0m\n\u001b[1;32m     17\u001b[0m         \u001b[0mtemp_name\u001b[0m\u001b[0;34m=\u001b[0m\u001b[0mget_name\u001b[0m \u001b[0;34m(\u001b[0m\u001b[0mtemp_soup\u001b[0m\u001b[0;34m)\u001b[0m\u001b[0;34m\u001b[0m\u001b[0m\n\u001b[1;32m     18\u001b[0m         \u001b[0mtemp_rating\u001b[0m\u001b[0;34m=\u001b[0m\u001b[0mget_rating\u001b[0m\u001b[0;34m(\u001b[0m\u001b[0mtemp_soup\u001b[0m\u001b[0;34m)\u001b[0m\u001b[0;34m\u001b[0m\u001b[0m\n\u001b[0;32m---> 19\u001b[0;31m         \u001b[0mtemp_difficulty\u001b[0m\u001b[0;34m=\u001b[0m\u001b[0mget_level_of_difficulty\u001b[0m\u001b[0;34m(\u001b[0m\u001b[0mtemp_soup\u001b[0m\u001b[0;34m)\u001b[0m\u001b[0;34m\u001b[0m\u001b[0m\n\u001b[0m\u001b[1;32m     20\u001b[0m         \u001b[0mtemp_numbers_reviews\u001b[0m\u001b[0;34m=\u001b[0m\u001b[0mget_number_reviews\u001b[0m\u001b[0;34m(\u001b[0m\u001b[0mtemp_soup\u001b[0m\u001b[0;34m)\u001b[0m\u001b[0;34m\u001b[0m\u001b[0m\n\u001b[1;32m     21\u001b[0m         \u001b[0mhave_tags\u001b[0m\u001b[0;34m=\u001b[0m\u001b[0mget_tags\u001b[0m\u001b[0;34m(\u001b[0m\u001b[0mtemp_soup\u001b[0m\u001b[0;34m)\u001b[0m\u001b[0;34m\u001b[0m\u001b[0m\n",
      "\u001b[0;32m<ipython-input-473-b65f930722c2>\u001b[0m in \u001b[0;36mget_level_of_difficulty\u001b[0;34m(prof_soup)\u001b[0m\n\u001b[1;32m      3\u001b[0m \u001b[0;32mdef\u001b[0m \u001b[0mget_level_of_difficulty\u001b[0m\u001b[0;34m(\u001b[0m\u001b[0mprof_soup\u001b[0m\u001b[0;34m)\u001b[0m\u001b[0;34m:\u001b[0m\u001b[0;34m\u001b[0m\u001b[0m\n\u001b[1;32m      4\u001b[0m \u001b[0;34m\u001b[0m\u001b[0m\n\u001b[0;32m----> 5\u001b[0;31m     \u001b[0mlevel_of_difficulty\u001b[0m\u001b[0;34m=\u001b[0m\u001b[0mprof_soup\u001b[0m\u001b[0;34m.\u001b[0m\u001b[0mfind\u001b[0m\u001b[0;34m(\u001b[0m\u001b[0mclass_\u001b[0m\u001b[0;34m=\u001b[0m\u001b[0;34m\"breakdown-section difficulty\"\u001b[0m\u001b[0;34m)\u001b[0m\u001b[0;34m.\u001b[0m\u001b[0mstripped_strings\u001b[0m\u001b[0;34m\u001b[0m\u001b[0m\n\u001b[0m\u001b[1;32m      6\u001b[0m \u001b[0;34m\u001b[0m\u001b[0m\n\u001b[1;32m      7\u001b[0m     \u001b[0;32mreturn\u001b[0m \u001b[0mfloat\u001b[0m\u001b[0;34m(\u001b[0m\u001b[0mlist\u001b[0m \u001b[0;34m(\u001b[0m\u001b[0mlevel_of_difficulty\u001b[0m\u001b[0;34m)\u001b[0m\u001b[0;34m[\u001b[0m\u001b[0;36m1\u001b[0m\u001b[0;34m]\u001b[0m\u001b[0;34m)\u001b[0m\u001b[0;34m\u001b[0m\u001b[0m\n",
      "\u001b[0;31mAttributeError\u001b[0m: 'NoneType' object has no attribute 'stripped_strings'"
     ]
    }
   ],
   "source": [
    "\n",
    "total_prof=total_professors(school_soup)\n",
    "pages=page_of_listing(total_prof)\n",
    "\n",
    "testing_urls=page_urls(school_url_flex, pages)\n",
    "\n",
    "print (\"Total professors: \"+str(total_prof), \"Pages: \"+str(pages))\n",
    "\n",
    "def scrape_data(urls):\n",
    "    data=[]\n",
    "    temp_page_links=prof_urls(urls, prof_url_flex)\n",
    "    for index, link2 in enumerate(temp_page_links):\n",
    "        temp=[]\n",
    "        temp_response=requests.get(link2)\n",
    "        temp_page=temp_response.text\n",
    "        temp_soup = BeautifulSoup(temp_page,\"lxml\")\n",
    "        temp_name=get_name (temp_soup)\n",
    "        temp_rating=get_rating(temp_soup)\n",
    "        temp_difficulty=get_level_of_difficulty(temp_soup)\n",
    "        temp_numbers_reviews=get_number_reviews(temp_soup)\n",
    "        have_tags=get_tags(temp_soup) \n",
    "        temp_tags=tag_count(all_tags, have_tags)\n",
    "            \n",
    "        temp.extend([temp_name, temp_rating, temp_difficulty,temp_numbers_reviews])\n",
    "        temp.extend(temp_tags)\n",
    "        \n",
    "        print(str(index)+\", \",end=\"\") # count the instance. print on same line\n",
    "        data.append(temp)\n",
    "        time.sleep(1)\n",
    "    return data\n",
    "\n",
    "result=scrape_data(testing_urls)\n",
    "\n",
    "\n",
    "                    \n",
    "    "
   ]
  },
  {
   "cell_type": "code",
   "execution_count": null,
   "metadata": {},
   "outputs": [],
   "source": [
    "column_names=['Name', 'Rating', 'Level of difficulty','Total reviews']\n",
    "column_names.extend(all_tags)\n",
    "column_names"
   ]
  },
  {
   "cell_type": "code",
   "execution_count": null,
   "metadata": {},
   "outputs": [],
   "source": [
    "df=pd.DataFrame(result, columns=column_names)\n",
    "df"
   ]
  },
  {
   "cell_type": "code",
   "execution_count": null,
   "metadata": {},
   "outputs": [],
   "source": [
    "#save to pick for efficiency\n",
    "\n",
    "import pickle\n",
    "\n",
    "filename = '/Users/xzhou/github/project_files/project_luther/professor_data2.pkl' #200 records\n",
    "\n",
    "try:\n",
    "    with open(filename,'rb') as pklfile:\n",
    "        df = pickle.load(pklfile)\n",
    "except:\n",
    "    with open(filename,'wb') as pklfile:\n",
    "        df = pickle.dump(df, pklfile)\n"
   ]
  },
  {
   "cell_type": "code",
   "execution_count": null,
   "metadata": {},
   "outputs": [],
   "source": [
    "# test pickle\n",
    "with open(filename,'rb') as pklfile:\n",
    "        df2 = pickle.load(pklfile)\n",
    "df2"
   ]
  },
  {
   "cell_type": "code",
   "execution_count": null,
   "metadata": {},
   "outputs": [],
   "source": []
  },
  {
   "cell_type": "code",
   "execution_count": null,
   "metadata": {},
   "outputs": [],
   "source": []
  }
 ],
 "metadata": {
  "kernelspec": {
   "display_name": "Python 3",
   "language": "python",
   "name": "python3"
  },
  "language_info": {
   "codemirror_mode": {
    "name": "ipython",
    "version": 3
   },
   "file_extension": ".py",
   "mimetype": "text/x-python",
   "name": "python",
   "nbconvert_exporter": "python",
   "pygments_lexer": "ipython3",
   "version": "3.6.6"
  }
 },
 "nbformat": 4,
 "nbformat_minor": 2
}
