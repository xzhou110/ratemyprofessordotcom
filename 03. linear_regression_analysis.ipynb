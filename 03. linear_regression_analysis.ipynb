{
 "cells": [
  {
   "cell_type": "code",
   "execution_count": 2,
   "metadata": {},
   "outputs": [
    {
     "name": "stderr",
     "output_type": "stream",
     "text": [
      "/Users/xzhou/anaconda3/lib/python3.6/site-packages/sklearn/cross_validation.py:41: DeprecationWarning: This module was deprecated in version 0.18 in favor of the model_selection module into which all the refactored classes and functions are moved. Also note that the interface of the new CV iterators are different from that of this module. This module will be removed in 0.20.\n",
      "  \"This module will be removed in 0.20.\", DeprecationWarning)\n"
     ]
    }
   ],
   "source": [
    "import numpy as np\n",
    "\n",
    "import requests\n",
    "import re\n",
    "import time\n",
    "import os\n",
    "import pandas as pd\n",
    "import pickle\n",
    "\n",
    "from bs4 import BeautifulSoup\n",
    "from IPython.core.display import display, HTML\n",
    "from selenium import webdriver\n",
    "from selenium.webdriver.common.keys import Keys\n",
    "\n",
    "\n",
    "import diagnostic_plots\n",
    "import patsy\n",
    "import statsmodels.api as sm\n",
    "import statsmodels.formula.api as smf\n",
    "import matplotlib.pyplot as plt\n",
    "import seaborn as sns\n",
    "from sklearn.linear_model import LinearRegression\n",
    "from sklearn import metrics\n",
    "from sklearn.preprocessing import PolynomialFeatures\n",
    "from sklearn.pipeline import make_pipeline\n",
    "from sklearn.cross_validation import train_test_split\n",
    "from sklearn.cross_validation import KFold\n",
    "from sklearn.preprocessing import StandardScaler\n",
    "\n",
    "% matplotlib inline"
   ]
  },
  {
   "cell_type": "code",
   "execution_count": 12,
   "metadata": {},
   "outputs": [],
   "source": [
    "# use seaborn style for all plots\n",
    "plt.style.use('seaborn')"
   ]
  },
  {
   "cell_type": "code",
   "execution_count": 4,
   "metadata": {},
   "outputs": [],
   "source": [
    "# load from pickle files\n",
    "\n",
    "\n",
    "\n",
    "filename_berkeley_clean = '/Users/xzhou/github/project_files/project_luther/professor_data_berkeley_cleaned.pkl'\n",
    "filename_nyu_clean = '/Users/xzhou/github/project_files/project_luther/professor_data_nyu_cleaned.pkl' \n",
    "filename_uf_clean = '/Users/xzhou/github/project_files/project_luther/professor_data_uf_cleaned.pkl'\n",
    "\n",
    "df_berkeley_clean=pd.read_pickle(filename_berkeley_clean)\n",
    "df_nyu_clean=pd.read_pickle(filename_nyu_clean)\n",
    "df_uf_clean=pd.read_pickle(filename_uf_clean)"
   ]
  },
  {
   "cell_type": "code",
   "execution_count": 5,
   "metadata": {},
   "outputs": [
    {
     "name": "stdout",
     "output_type": "stream",
     "text": [
      "(1271, 29)\n",
      "(2043, 29)\n",
      "(1484, 29)\n"
     ]
    }
   ],
   "source": [
    "print(df_berkeley_clean.shape)\n",
    "print(df_nyu_clean.shape)\n",
    "print(df_uf_clean.shape)"
   ]
  },
  {
   "cell_type": "code",
   "execution_count": 6,
   "metadata": {},
   "outputs": [
    {
     "data": {
      "text/plain": [
       "(4798, 29)"
      ]
     },
     "execution_count": 6,
     "metadata": {},
     "output_type": "execute_result"
    }
   ],
   "source": [
    "# define key for each section. This would be used for future references. \n",
    "dfs_clean=pd.concat([df_berkeley_clean, df_nyu_clean, df_uf_clean],keys=['berkeley', 'nyu', 'uf'])\n",
    "dfs_clean.shape"
   ]
  },
  {
   "cell_type": "code",
   "execution_count": 7,
   "metadata": {},
   "outputs": [
    {
     "data": {
      "text/html": [
       "<div>\n",
       "<style scoped>\n",
       "    .dataframe tbody tr th:only-of-type {\n",
       "        vertical-align: middle;\n",
       "    }\n",
       "\n",
       "    .dataframe tbody tr th {\n",
       "        vertical-align: top;\n",
       "    }\n",
       "\n",
       "    .dataframe thead th {\n",
       "        text-align: right;\n",
       "    }\n",
       "</style>\n",
       "<table border=\"1\" class=\"dataframe\">\n",
       "  <thead>\n",
       "    <tr style=\"text-align: right;\">\n",
       "      <th></th>\n",
       "      <th></th>\n",
       "      <th>Rating</th>\n",
       "      <th>Level of difficulty</th>\n",
       "      <th>Total reviews</th>\n",
       "      <th>Student size</th>\n",
       "      <th>Type_public</th>\n",
       "      <th>Type_private</th>\n",
       "      <th>Region_west</th>\n",
       "      <th>Region_east</th>\n",
       "      <th>Region_south</th>\n",
       "      <th>Accessible outside class</th>\n",
       "      <th>...</th>\n",
       "      <th>Hilarious</th>\n",
       "      <th>Inspirational</th>\n",
       "      <th>Lecture heavy</th>\n",
       "      <th>Lots of homework</th>\n",
       "      <th>Participation matters</th>\n",
       "      <th>Respected</th>\n",
       "      <th>Skip class? you won't pass.</th>\n",
       "      <th>So many papers</th>\n",
       "      <th>Test heavy</th>\n",
       "      <th>Tough grader</th>\n",
       "    </tr>\n",
       "  </thead>\n",
       "  <tbody>\n",
       "    <tr>\n",
       "      <th rowspan=\"5\" valign=\"top\">uf</th>\n",
       "      <th>5216</th>\n",
       "      <td>4.7</td>\n",
       "      <td>3.3</td>\n",
       "      <td>1.791759</td>\n",
       "      <td>52367</td>\n",
       "      <td>1</td>\n",
       "      <td>0</td>\n",
       "      <td>0</td>\n",
       "      <td>0</td>\n",
       "      <td>1</td>\n",
       "      <td>0.29</td>\n",
       "      <td>...</td>\n",
       "      <td>0.06</td>\n",
       "      <td>0.06</td>\n",
       "      <td>0.00</td>\n",
       "      <td>0.00</td>\n",
       "      <td>0.06</td>\n",
       "      <td>0.06</td>\n",
       "      <td>0.00</td>\n",
       "      <td>0.0</td>\n",
       "      <td>0.06</td>\n",
       "      <td>0.00</td>\n",
       "    </tr>\n",
       "    <tr>\n",
       "      <th>5223</th>\n",
       "      <td>3.7</td>\n",
       "      <td>3.0</td>\n",
       "      <td>1.791759</td>\n",
       "      <td>52367</td>\n",
       "      <td>1</td>\n",
       "      <td>0</td>\n",
       "      <td>0</td>\n",
       "      <td>0</td>\n",
       "      <td>1</td>\n",
       "      <td>0.27</td>\n",
       "      <td>...</td>\n",
       "      <td>0.00</td>\n",
       "      <td>0.00</td>\n",
       "      <td>0.00</td>\n",
       "      <td>0.00</td>\n",
       "      <td>0.00</td>\n",
       "      <td>0.18</td>\n",
       "      <td>0.00</td>\n",
       "      <td>0.0</td>\n",
       "      <td>0.00</td>\n",
       "      <td>0.09</td>\n",
       "    </tr>\n",
       "    <tr>\n",
       "      <th>5258</th>\n",
       "      <td>3.8</td>\n",
       "      <td>2.8</td>\n",
       "      <td>1.386294</td>\n",
       "      <td>52367</td>\n",
       "      <td>1</td>\n",
       "      <td>0</td>\n",
       "      <td>0</td>\n",
       "      <td>0</td>\n",
       "      <td>1</td>\n",
       "      <td>0.18</td>\n",
       "      <td>...</td>\n",
       "      <td>0.00</td>\n",
       "      <td>0.00</td>\n",
       "      <td>0.09</td>\n",
       "      <td>0.00</td>\n",
       "      <td>0.00</td>\n",
       "      <td>0.00</td>\n",
       "      <td>0.00</td>\n",
       "      <td>0.0</td>\n",
       "      <td>0.36</td>\n",
       "      <td>0.00</td>\n",
       "    </tr>\n",
       "    <tr>\n",
       "      <th>5280</th>\n",
       "      <td>4.6</td>\n",
       "      <td>2.6</td>\n",
       "      <td>3.218876</td>\n",
       "      <td>52367</td>\n",
       "      <td>1</td>\n",
       "      <td>0</td>\n",
       "      <td>0</td>\n",
       "      <td>0</td>\n",
       "      <td>1</td>\n",
       "      <td>0.17</td>\n",
       "      <td>...</td>\n",
       "      <td>0.08</td>\n",
       "      <td>0.00</td>\n",
       "      <td>0.25</td>\n",
       "      <td>0.00</td>\n",
       "      <td>0.08</td>\n",
       "      <td>0.00</td>\n",
       "      <td>0.17</td>\n",
       "      <td>0.0</td>\n",
       "      <td>0.00</td>\n",
       "      <td>0.00</td>\n",
       "    </tr>\n",
       "    <tr>\n",
       "      <th>5281</th>\n",
       "      <td>5.0</td>\n",
       "      <td>3.2</td>\n",
       "      <td>1.386294</td>\n",
       "      <td>52367</td>\n",
       "      <td>1</td>\n",
       "      <td>0</td>\n",
       "      <td>0</td>\n",
       "      <td>0</td>\n",
       "      <td>1</td>\n",
       "      <td>0.09</td>\n",
       "      <td>...</td>\n",
       "      <td>0.00</td>\n",
       "      <td>0.09</td>\n",
       "      <td>0.00</td>\n",
       "      <td>0.09</td>\n",
       "      <td>0.09</td>\n",
       "      <td>0.18</td>\n",
       "      <td>0.00</td>\n",
       "      <td>0.0</td>\n",
       "      <td>0.00</td>\n",
       "      <td>0.00</td>\n",
       "    </tr>\n",
       "  </tbody>\n",
       "</table>\n",
       "<p>5 rows × 29 columns</p>\n",
       "</div>"
      ],
      "text/plain": [
       "         Rating  Level of difficulty  Total reviews  Student size  \\\n",
       "uf 5216     4.7                  3.3       1.791759         52367   \n",
       "   5223     3.7                  3.0       1.791759         52367   \n",
       "   5258     3.8                  2.8       1.386294         52367   \n",
       "   5280     4.6                  2.6       3.218876         52367   \n",
       "   5281     5.0                  3.2       1.386294         52367   \n",
       "\n",
       "         Type_public  Type_private  Region_west  Region_east  Region_south  \\\n",
       "uf 5216            1             0            0            0             1   \n",
       "   5223            1             0            0            0             1   \n",
       "   5258            1             0            0            0             1   \n",
       "   5280            1             0            0            0             1   \n",
       "   5281            1             0            0            0             1   \n",
       "\n",
       "         Accessible outside class      ...       Hilarious  Inspirational  \\\n",
       "uf 5216                      0.29      ...            0.06           0.06   \n",
       "   5223                      0.27      ...            0.00           0.00   \n",
       "   5258                      0.18      ...            0.00           0.00   \n",
       "   5280                      0.17      ...            0.08           0.00   \n",
       "   5281                      0.09      ...            0.00           0.09   \n",
       "\n",
       "         Lecture heavy  Lots of homework  Participation matters  Respected  \\\n",
       "uf 5216           0.00              0.00                   0.06       0.06   \n",
       "   5223           0.00              0.00                   0.00       0.18   \n",
       "   5258           0.09              0.00                   0.00       0.00   \n",
       "   5280           0.25              0.00                   0.08       0.00   \n",
       "   5281           0.00              0.09                   0.09       0.18   \n",
       "\n",
       "         Skip class? you won't pass.  So many papers  Test heavy  Tough grader  \n",
       "uf 5216                         0.00             0.0        0.06          0.00  \n",
       "   5223                         0.00             0.0        0.00          0.09  \n",
       "   5258                         0.00             0.0        0.36          0.00  \n",
       "   5280                         0.17             0.0        0.00          0.00  \n",
       "   5281                         0.00             0.0        0.00          0.00  \n",
       "\n",
       "[5 rows x 29 columns]"
      ]
     },
     "execution_count": 7,
     "metadata": {},
     "output_type": "execute_result"
    }
   ],
   "source": [
    "# noted records with no professor name\n",
    "dfs_clean.tail()"
   ]
  },
  {
   "cell_type": "code",
   "execution_count": 8,
   "metadata": {},
   "outputs": [],
   "source": [
    "# Ran iterations of models and only keep key features that can impact rating\n",
    "\n",
    "dfs_clean_smaller=dfs_clean.loc[:,['Rating', 'Level of difficulty',  \n",
    "        'Accessible outside class', 'Amazing lectures','Caring', 'Clear grading criteria',\n",
    "        'Gives good feedback',\n",
    "        'Hilarious', 'Inspirational',\n",
    "         'Participation matters',\n",
    "       'Respected', 'Skip class? you won\\'t pass.' \n",
    "        ]]"
   ]
  },
  {
   "cell_type": "code",
   "execution_count": null,
   "metadata": {},
   "outputs": [],
   "source": []
  },
  {
   "cell_type": "code",
   "execution_count": 9,
   "metadata": {},
   "outputs": [],
   "source": [
    "#sns.pairplot(dfs_clean,  size = 2, aspect=1.5);"
   ]
  },
  {
   "cell_type": "code",
   "execution_count": 13,
   "metadata": {},
   "outputs": [
    {
     "name": "stderr",
     "output_type": "stream",
     "text": [
      "No handles with labels found to put in legend.\n"
     ]
    },
    {
     "data": {
      "image/png": "[encoded data removed]",
      "text/plain": [
       "<Figure size 576x396 with 1 Axes>"
      ]
     },
     "metadata": {},
     "output_type": "display_data"
    }
   ],
   "source": [
    "plt.hist(dfs_clean_smaller['Rating'],edgecolor='black', linewidth=1.2, bins=np.linspace(1.0,5.0,16))\n",
    "plt.title(\"Rating Distribution\")\n",
    "plt.xlabel(\"Rating\")\n",
    "plt.ylabel(\"Number of Reviews\")\n",
    "plt.legend()\n",
    "\n",
    "\n",
    "plt.show()"
   ]
  },
  {
   "cell_type": "code",
   "execution_count": 14,
   "metadata": {},
   "outputs": [],
   "source": [
    "# Define a function to perform training and test sets split:\n",
    "\n",
    "def tt_split(df, y_column, test_size):\n",
    "    X=df.drop(y_column, 1)\n",
    "    y=df[y_column]\n",
    "    return train_test_split(X, y, test_size=test_size, random_state=8)"
   ]
  },
  {
   "cell_type": "code",
   "execution_count": 15,
   "metadata": {},
   "outputs": [
    {
     "data": {
      "text/html": [
       "<table class=\"simpletable\">\n",
       "<caption>OLS Regression Results</caption>\n",
       "<tr>\n",
       "  <th>Dep. Variable:</th>         <td>Rating</td>      <th>  R-squared:         </th> <td>   0.464</td> \n",
       "</tr>\n",
       "<tr>\n",
       "  <th>Model:</th>                   <td>OLS</td>       <th>  Adj. R-squared:    </th> <td>   0.450</td> \n",
       "</tr>\n",
       "<tr>\n",
       "  <th>Method:</th>             <td>Least Squares</td>  <th>  F-statistic:       </th> <td>   33.62</td> \n",
       "</tr>\n",
       "<tr>\n",
       "  <th>Date:</th>             <td>Fri, 20 Jul 2018</td> <th>  Prob (F-statistic):</th> <td>7.27e-109</td>\n",
       "</tr>\n",
       "<tr>\n",
       "  <th>Time:</th>                 <td>16:08:00</td>     <th>  Log-Likelihood:    </th> <td> -949.69</td> \n",
       "</tr>\n",
       "<tr>\n",
       "  <th>No. Observations:</th>      <td>   959</td>      <th>  AIC:               </th> <td>   1949.</td> \n",
       "</tr>\n",
       "<tr>\n",
       "  <th>Df Residuals:</th>          <td>   934</td>      <th>  BIC:               </th> <td>   2071.</td> \n",
       "</tr>\n",
       "<tr>\n",
       "  <th>Df Model:</th>              <td>    24</td>      <th>                     </th>     <td> </td>    \n",
       "</tr>\n",
       "<tr>\n",
       "  <th>Covariance Type:</th>      <td>nonrobust</td>    <th>                     </th>     <td> </td>    \n",
       "</tr>\n",
       "</table>\n",
       "<table class=\"simpletable\">\n",
       "<tr>\n",
       "    <td></td>       <th>coef</th>     <th>std err</th>      <th>t</th>      <th>P>|t|</th>  <th>[0.025</th>    <th>0.975]</th>  \n",
       "</tr>\n",
       "<tr>\n",
       "  <th>const</th> <td>    3.8173</td> <td>    0.021</td> <td>  179.097</td> <td> 0.000</td> <td>    3.775</td> <td>    3.859</td>\n",
       "</tr>\n",
       "<tr>\n",
       "  <th>x1</th>    <td>   -0.1924</td> <td>    0.025</td> <td>   -7.682</td> <td> 0.000</td> <td>   -0.242</td> <td>   -0.143</td>\n",
       "</tr>\n",
       "<tr>\n",
       "  <th>x2</th>    <td>   -0.0141</td> <td>    0.022</td> <td>   -0.637</td> <td> 0.524</td> <td>   -0.058</td> <td>    0.029</td>\n",
       "</tr>\n",
       "<tr>\n",
       "  <th>x3</th>    <td>    0.0049</td> <td>    0.007</td> <td>    0.666</td> <td> 0.505</td> <td>   -0.009</td> <td>    0.019</td>\n",
       "</tr>\n",
       "<tr>\n",
       "  <th>x4</th>    <td>    0.0035</td> <td>    0.005</td> <td>    0.647</td> <td> 0.518</td> <td>   -0.007</td> <td>    0.014</td>\n",
       "</tr>\n",
       "<tr>\n",
       "  <th>x5</th>    <td>   -0.0035</td> <td>    0.005</td> <td>   -0.647</td> <td> 0.518</td> <td>   -0.014</td> <td>    0.007</td>\n",
       "</tr>\n",
       "<tr>\n",
       "  <th>x6</th>    <td>   -0.0099</td> <td>    0.011</td> <td>   -0.921</td> <td> 0.357</td> <td>   -0.031</td> <td>    0.011</td>\n",
       "</tr>\n",
       "<tr>\n",
       "  <th>x7</th>    <td>   -0.0035</td> <td>    0.005</td> <td>   -0.647</td> <td> 0.518</td> <td>   -0.014</td> <td>    0.007</td>\n",
       "</tr>\n",
       "<tr>\n",
       "  <th>x8</th>    <td>    0.0131</td> <td>    0.012</td> <td>    1.066</td> <td> 0.287</td> <td>   -0.011</td> <td>    0.037</td>\n",
       "</tr>\n",
       "<tr>\n",
       "  <th>x9</th>    <td>   -0.1520</td> <td>    0.135</td> <td>   -1.126</td> <td> 0.260</td> <td>   -0.417</td> <td>    0.113</td>\n",
       "</tr>\n",
       "<tr>\n",
       "  <th>x10</th>   <td>   -0.2003</td> <td>    0.194</td> <td>   -1.034</td> <td> 0.301</td> <td>   -0.580</td> <td>    0.180</td>\n",
       "</tr>\n",
       "<tr>\n",
       "  <th>x11</th>   <td>   -0.1508</td> <td>    0.085</td> <td>   -1.772</td> <td> 0.077</td> <td>   -0.318</td> <td>    0.016</td>\n",
       "</tr>\n",
       "<tr>\n",
       "  <th>x12</th>   <td>   -0.3081</td> <td>    0.214</td> <td>   -1.437</td> <td> 0.151</td> <td>   -0.729</td> <td>    0.113</td>\n",
       "</tr>\n",
       "<tr>\n",
       "  <th>x13</th>   <td>   -0.3505</td> <td>    0.193</td> <td>   -1.814</td> <td> 0.070</td> <td>   -0.730</td> <td>    0.029</td>\n",
       "</tr>\n",
       "<tr>\n",
       "  <th>x14</th>   <td>   -0.1956</td> <td>    0.125</td> <td>   -1.561</td> <td> 0.119</td> <td>   -0.442</td> <td>    0.050</td>\n",
       "</tr>\n",
       "<tr>\n",
       "  <th>x15</th>   <td>   -0.4787</td> <td>    0.239</td> <td>   -2.002</td> <td> 0.046</td> <td>   -0.948</td> <td>   -0.009</td>\n",
       "</tr>\n",
       "<tr>\n",
       "  <th>x16</th>   <td>   -0.3465</td> <td>    0.227</td> <td>   -1.528</td> <td> 0.127</td> <td>   -0.792</td> <td>    0.099</td>\n",
       "</tr>\n",
       "<tr>\n",
       "  <th>x17</th>   <td>   -0.3246</td> <td>    0.144</td> <td>   -2.251</td> <td> 0.025</td> <td>   -0.608</td> <td>   -0.042</td>\n",
       "</tr>\n",
       "<tr>\n",
       "  <th>x18</th>   <td>   -0.3420</td> <td>    0.137</td> <td>   -2.497</td> <td> 0.013</td> <td>   -0.611</td> <td>   -0.073</td>\n",
       "</tr>\n",
       "<tr>\n",
       "  <th>x19</th>   <td>   -0.3038</td> <td>    0.194</td> <td>   -1.567</td> <td> 0.117</td> <td>   -0.684</td> <td>    0.077</td>\n",
       "</tr>\n",
       "<tr>\n",
       "  <th>x20</th>   <td>   -0.3119</td> <td>    0.210</td> <td>   -1.487</td> <td> 0.137</td> <td>   -0.723</td> <td>    0.100</td>\n",
       "</tr>\n",
       "<tr>\n",
       "  <th>x21</th>   <td>   -0.5061</td> <td>    0.233</td> <td>   -2.168</td> <td> 0.030</td> <td>   -0.964</td> <td>   -0.048</td>\n",
       "</tr>\n",
       "<tr>\n",
       "  <th>x22</th>   <td>   -0.3964</td> <td>    0.182</td> <td>   -2.177</td> <td> 0.030</td> <td>   -0.754</td> <td>   -0.039</td>\n",
       "</tr>\n",
       "<tr>\n",
       "  <th>x23</th>   <td>   -0.2914</td> <td>    0.191</td> <td>   -1.522</td> <td> 0.128</td> <td>   -0.667</td> <td>    0.084</td>\n",
       "</tr>\n",
       "<tr>\n",
       "  <th>x24</th>   <td>   -0.2505</td> <td>    0.206</td> <td>   -1.215</td> <td> 0.225</td> <td>   -0.655</td> <td>    0.154</td>\n",
       "</tr>\n",
       "<tr>\n",
       "  <th>x25</th>   <td>   -0.3725</td> <td>    0.195</td> <td>   -1.909</td> <td> 0.057</td> <td>   -0.756</td> <td>    0.010</td>\n",
       "</tr>\n",
       "<tr>\n",
       "  <th>x26</th>   <td>   -0.2100</td> <td>    0.071</td> <td>   -2.967</td> <td> 0.003</td> <td>   -0.349</td> <td>   -0.071</td>\n",
       "</tr>\n",
       "<tr>\n",
       "  <th>x27</th>   <td>   -0.2283</td> <td>    0.084</td> <td>   -2.705</td> <td> 0.007</td> <td>   -0.394</td> <td>   -0.063</td>\n",
       "</tr>\n",
       "<tr>\n",
       "  <th>x28</th>   <td>   -0.6788</td> <td>    0.273</td> <td>   -2.491</td> <td> 0.013</td> <td>   -1.214</td> <td>   -0.144</td>\n",
       "</tr>\n",
       "</table>\n",
       "<table class=\"simpletable\">\n",
       "<tr>\n",
       "  <th>Omnibus:</th>       <td>61.682</td> <th>  Durbin-Watson:     </th> <td>   1.877</td>\n",
       "</tr>\n",
       "<tr>\n",
       "  <th>Prob(Omnibus):</th> <td> 0.000</td> <th>  Jarque-Bera (JB):  </th> <td>  73.841</td>\n",
       "</tr>\n",
       "<tr>\n",
       "  <th>Skew:</th>          <td>-0.615</td> <th>  Prob(JB):          </th> <td>9.24e-17</td>\n",
       "</tr>\n",
       "<tr>\n",
       "  <th>Kurtosis:</th>      <td> 3.579</td> <th>  Cond. No.          </th> <td>2.28e+16</td>\n",
       "</tr>\n",
       "</table><br/><br/>Warnings:<br/>[1] Standard Errors assume that the covariance matrix of the errors is correctly specified.<br/>[2] The smallest eigenvalue is 8.18e-30. This might indicate that there are<br/>strong multicollinearity problems or that the design matrix is singular."
      ],
      "text/plain": [
       "<class 'statsmodels.iolib.summary.Summary'>\n",
       "\"\"\"\n",
       "                            OLS Regression Results                            \n",
       "==============================================================================\n",
       "Dep. Variable:                 Rating   R-squared:                       0.464\n",
       "Model:                            OLS   Adj. R-squared:                  0.450\n",
       "Method:                 Least Squares   F-statistic:                     33.62\n",
       "Date:                Fri, 20 Jul 2018   Prob (F-statistic):          7.27e-109\n",
       "Time:                        16:08:00   Log-Likelihood:                -949.69\n",
       "No. Observations:                 959   AIC:                             1949.\n",
       "Df Residuals:                     934   BIC:                             2071.\n",
       "Df Model:                          24                                         \n",
       "Covariance Type:            nonrobust                                         \n",
       "==============================================================================\n",
       "                 coef    std err          t      P>|t|      [0.025      0.975]\n",
       "------------------------------------------------------------------------------\n",
       "const          3.8173      0.021    179.097      0.000       3.775       3.859\n",
       "x1            -0.1924      0.025     -7.682      0.000      -0.242      -0.143\n",
       "x2            -0.0141      0.022     -0.637      0.524      -0.058       0.029\n",
       "x3             0.0049      0.007      0.666      0.505      -0.009       0.019\n",
       "x4             0.0035      0.005      0.647      0.518      -0.007       0.014\n",
       "x5            -0.0035      0.005     -0.647      0.518      -0.014       0.007\n",
       "x6            -0.0099      0.011     -0.921      0.357      -0.031       0.011\n",
       "x7            -0.0035      0.005     -0.647      0.518      -0.014       0.007\n",
       "x8             0.0131      0.012      1.066      0.287      -0.011       0.037\n",
       "x9            -0.1520      0.135     -1.126      0.260      -0.417       0.113\n",
       "x10           -0.2003      0.194     -1.034      0.301      -0.580       0.180\n",
       "x11           -0.1508      0.085     -1.772      0.077      -0.318       0.016\n",
       "x12           -0.3081      0.214     -1.437      0.151      -0.729       0.113\n",
       "x13           -0.3505      0.193     -1.814      0.070      -0.730       0.029\n",
       "x14           -0.1956      0.125     -1.561      0.119      -0.442       0.050\n",
       "x15           -0.4787      0.239     -2.002      0.046      -0.948      -0.009\n",
       "x16           -0.3465      0.227     -1.528      0.127      -0.792       0.099\n",
       "x17           -0.3246      0.144     -2.251      0.025      -0.608      -0.042\n",
       "x18           -0.3420      0.137     -2.497      0.013      -0.611      -0.073\n",
       "x19           -0.3038      0.194     -1.567      0.117      -0.684       0.077\n",
       "x20           -0.3119      0.210     -1.487      0.137      -0.723       0.100\n",
       "x21           -0.5061      0.233     -2.168      0.030      -0.964      -0.048\n",
       "x22           -0.3964      0.182     -2.177      0.030      -0.754      -0.039\n",
       "x23           -0.2914      0.191     -1.522      0.128      -0.667       0.084\n",
       "x24           -0.2505      0.206     -1.215      0.225      -0.655       0.154\n",
       "x25           -0.3725      0.195     -1.909      0.057      -0.756       0.010\n",
       "x26           -0.2100      0.071     -2.967      0.003      -0.349      -0.071\n",
       "x27           -0.2283      0.084     -2.705      0.007      -0.394      -0.063\n",
       "x28           -0.6788      0.273     -2.491      0.013      -1.214      -0.144\n",
       "==============================================================================\n",
       "Omnibus:                       61.682   Durbin-Watson:                   1.877\n",
       "Prob(Omnibus):                  0.000   Jarque-Bera (JB):               73.841\n",
       "Skew:                          -0.615   Prob(JB):                     9.24e-17\n",
       "Kurtosis:                       3.579   Cond. No.                     2.28e+16\n",
       "==============================================================================\n",
       "\n",
       "Warnings:\n",
       "[1] Standard Errors assume that the covariance matrix of the errors is correctly specified.\n",
       "[2] The smallest eigenvalue is 8.18e-30. This might indicate that there are\n",
       "strong multicollinearity problems or that the design matrix is singular.\n",
       "\"\"\""
      ]
     },
     "execution_count": 15,
     "metadata": {},
     "output_type": "execute_result"
    }
   ],
   "source": [
    "# Mode l: noted y is not normal distribution. Leave it untransformed in this scenario\n",
    "\n",
    "# Perform training and testing splits\n",
    "\n",
    "X_train, X_test, y_train, y_test=tt_split(dfs_clean, 'Rating', 0.8)\n",
    "\n",
    "# normalize training set\n",
    "\n",
    "ssX = StandardScaler()\n",
    "X_train_scaled = ssX.fit_transform(X_train)\n",
    "\n",
    "\n",
    "model1=sm.OLS(y_train, sm.add_constant(X_train_scaled))\n",
    "fit1=model1.fit()\n",
    "fit1.summary()"
   ]
  },
  {
   "cell_type": "code",
   "execution_count": null,
   "metadata": {},
   "outputs": [],
   "source": []
  },
  {
   "cell_type": "code",
   "execution_count": 23,
   "metadata": {},
   "outputs": [],
   "source": [
    "#diagnostic_plots.diagnostic_plots(dfs_clean.drop('Rating', axis=1), dfs_clean['Rating'], fit1)"
   ]
  },
  {
   "cell_type": "code",
   "execution_count": 20,
   "metadata": {},
   "outputs": [
    {
     "data": {
      "text/html": [
       "<table class=\"simpletable\">\n",
       "<caption>OLS Regression Results</caption>\n",
       "<tr>\n",
       "  <th>Dep. Variable:</th>         <td>Rating</td>      <th>  R-squared:         </th> <td>   0.436</td>\n",
       "</tr>\n",
       "<tr>\n",
       "  <th>Model:</th>                   <td>OLS</td>       <th>  Adj. R-squared:    </th> <td>   0.422</td>\n",
       "</tr>\n",
       "<tr>\n",
       "  <th>Method:</th>             <td>Least Squares</td>  <th>  F-statistic:       </th> <td>   30.12</td>\n",
       "</tr>\n",
       "<tr>\n",
       "  <th>Date:</th>             <td>Fri, 20 Jul 2018</td> <th>  Prob (F-statistic):</th> <td>4.21e-99</td>\n",
       "</tr>\n",
       "<tr>\n",
       "  <th>Time:</th>                 <td>16:09:45</td>     <th>  Log-Likelihood:    </th> <td>  371.77</td>\n",
       "</tr>\n",
       "<tr>\n",
       "  <th>No. Observations:</th>      <td>   959</td>      <th>  AIC:               </th> <td>  -693.5</td>\n",
       "</tr>\n",
       "<tr>\n",
       "  <th>Df Residuals:</th>          <td>   934</td>      <th>  BIC:               </th> <td>  -571.9</td>\n",
       "</tr>\n",
       "<tr>\n",
       "  <th>Df Model:</th>              <td>    24</td>      <th>                     </th>     <td> </td>   \n",
       "</tr>\n",
       "<tr>\n",
       "  <th>Covariance Type:</th>      <td>nonrobust</td>    <th>                     </th>     <td> </td>   \n",
       "</tr>\n",
       "</table>\n",
       "<table class=\"simpletable\">\n",
       "<tr>\n",
       "               <td></td>                  <th>coef</th>     <th>std err</th>      <th>t</th>      <th>P>|t|</th>  <th>[0.025</th>    <th>0.975]</th>  \n",
       "</tr>\n",
       "<tr>\n",
       "  <th>const</th>                       <td>    0.0715</td> <td>    0.015</td> <td>    4.665</td> <td> 0.000</td> <td>    0.041</td> <td>    0.102</td>\n",
       "</tr>\n",
       "<tr>\n",
       "  <th>Level of difficulty</th>         <td>   -0.0592</td> <td>    0.008</td> <td>   -7.086</td> <td> 0.000</td> <td>   -0.076</td> <td>   -0.043</td>\n",
       "</tr>\n",
       "<tr>\n",
       "  <th>Total reviews</th>               <td>    0.0082</td> <td>    0.006</td> <td>    1.344</td> <td> 0.179</td> <td>   -0.004</td> <td>    0.020</td>\n",
       "</tr>\n",
       "<tr>\n",
       "  <th>Student size</th>                <td> 3.963e-05</td> <td> 8.32e-06</td> <td>    4.763</td> <td> 0.000</td> <td> 2.33e-05</td> <td>  5.6e-05</td>\n",
       "</tr>\n",
       "<tr>\n",
       "  <th>Type_public</th>                 <td>    0.1756</td> <td>    0.037</td> <td>    4.720</td> <td> 0.000</td> <td>    0.103</td> <td>    0.249</td>\n",
       "</tr>\n",
       "<tr>\n",
       "  <th>Type_private</th>                <td>   -0.1041</td> <td>    0.022</td> <td>   -4.737</td> <td> 0.000</td> <td>   -0.147</td> <td>   -0.061</td>\n",
       "</tr>\n",
       "<tr>\n",
       "  <th>Region_west</th>                 <td>    0.2914</td> <td>    0.063</td> <td>    4.635</td> <td> 0.000</td> <td>    0.168</td> <td>    0.415</td>\n",
       "</tr>\n",
       "<tr>\n",
       "  <th>Region_east</th>                 <td>   -0.1041</td> <td>    0.022</td> <td>   -4.737</td> <td> 0.000</td> <td>   -0.147</td> <td>   -0.061</td>\n",
       "</tr>\n",
       "<tr>\n",
       "  <th>Region_south</th>                <td>   -0.1158</td> <td>    0.026</td> <td>   -4.401</td> <td> 0.000</td> <td>   -0.167</td> <td>   -0.064</td>\n",
       "</tr>\n",
       "<tr>\n",
       "  <th>Accessible outside class</th>    <td>   -0.6907</td> <td>    0.470</td> <td>   -1.469</td> <td> 0.142</td> <td>   -1.613</td> <td>    0.232</td>\n",
       "</tr>\n",
       "<tr>\n",
       "  <th>Amazing lectures</th>            <td>   -0.6326</td> <td>    0.467</td> <td>   -1.355</td> <td> 0.176</td> <td>   -1.549</td> <td>    0.284</td>\n",
       "</tr>\n",
       "<tr>\n",
       "  <th>Beware of pop quizzes</th>       <td>   -0.8790</td> <td>    0.483</td> <td>   -1.819</td> <td> 0.069</td> <td>   -1.827</td> <td>    0.069</td>\n",
       "</tr>\n",
       "<tr>\n",
       "  <th>Caring</th>                      <td>   -0.8033</td> <td>    0.468</td> <td>   -1.716</td> <td> 0.086</td> <td>   -1.722</td> <td>    0.115</td>\n",
       "</tr>\n",
       "<tr>\n",
       "  <th>Clear grading criteria</th>      <td>   -0.9279</td> <td>    0.468</td> <td>   -1.983</td> <td> 0.048</td> <td>   -1.846</td> <td>   -0.010</td>\n",
       "</tr>\n",
       "<tr>\n",
       "  <th>Extra credit</th>                <td>   -0.8275</td> <td>    0.469</td> <td>   -1.765</td> <td> 0.078</td> <td>   -1.748</td> <td>    0.093</td>\n",
       "</tr>\n",
       "<tr>\n",
       "  <th>Get ready to read</th>           <td>   -1.0310</td> <td>    0.467</td> <td>   -2.208</td> <td> 0.027</td> <td>   -1.947</td> <td>   -0.115</td>\n",
       "</tr>\n",
       "<tr>\n",
       "  <th>Gives good feedback</th>         <td>   -0.8260</td> <td>    0.469</td> <td>   -1.763</td> <td> 0.078</td> <td>   -1.745</td> <td>    0.094</td>\n",
       "</tr>\n",
       "<tr>\n",
       "  <th>Graded by few things</th>        <td>   -1.1026</td> <td>    0.471</td> <td>   -2.342</td> <td> 0.019</td> <td>   -2.027</td> <td>   -0.179</td>\n",
       "</tr>\n",
       "<tr>\n",
       "  <th>Group projects</th>              <td>   -1.2307</td> <td>    0.471</td> <td>   -2.614</td> <td> 0.009</td> <td>   -2.155</td> <td>   -0.307</td>\n",
       "</tr>\n",
       "<tr>\n",
       "  <th>Hilarious</th>                   <td>   -0.8491</td> <td>    0.466</td> <td>   -1.822</td> <td> 0.069</td> <td>   -1.764</td> <td>    0.065</td>\n",
       "</tr>\n",
       "<tr>\n",
       "  <th>Inspirational</th>               <td>   -0.8072</td> <td>    0.468</td> <td>   -1.724</td> <td> 0.085</td> <td>   -1.726</td> <td>    0.112</td>\n",
       "</tr>\n",
       "<tr>\n",
       "  <th>Lecture heavy</th>               <td>   -1.1080</td> <td>    0.467</td> <td>   -2.372</td> <td> 0.018</td> <td>   -2.025</td> <td>   -0.191</td>\n",
       "</tr>\n",
       "<tr>\n",
       "  <th>Lots of homework</th>            <td>   -1.1077</td> <td>    0.469</td> <td>   -2.360</td> <td> 0.018</td> <td>   -2.029</td> <td>   -0.187</td>\n",
       "</tr>\n",
       "<tr>\n",
       "  <th>Participation matters</th>       <td>   -0.8099</td> <td>    0.470</td> <td>   -1.724</td> <td> 0.085</td> <td>   -1.732</td> <td>    0.112</td>\n",
       "</tr>\n",
       "<tr>\n",
       "  <th>Respected</th>                   <td>   -0.7001</td> <td>    0.464</td> <td>   -1.509</td> <td> 0.132</td> <td>   -1.611</td> <td>    0.210</td>\n",
       "</tr>\n",
       "<tr>\n",
       "  <th>Skip class? you won't pass.</th> <td>   -0.9535</td> <td>    0.469</td> <td>   -2.033</td> <td> 0.042</td> <td>   -1.874</td> <td>   -0.033</td>\n",
       "</tr>\n",
       "<tr>\n",
       "  <th>So many papers</th>              <td>   -1.5344</td> <td>    0.486</td> <td>   -3.160</td> <td> 0.002</td> <td>   -2.487</td> <td>   -0.581</td>\n",
       "</tr>\n",
       "<tr>\n",
       "  <th>Test heavy</th>                  <td>   -1.3536</td> <td>    0.475</td> <td>   -2.850</td> <td> 0.004</td> <td>   -2.286</td> <td>   -0.422</td>\n",
       "</tr>\n",
       "<tr>\n",
       "  <th>Tough grader</th>                <td>   -1.3080</td> <td>    0.465</td> <td>   -2.811</td> <td> 0.005</td> <td>   -2.221</td> <td>   -0.395</td>\n",
       "</tr>\n",
       "</table>\n",
       "<table class=\"simpletable\">\n",
       "<tr>\n",
       "  <th>Omnibus:</th>       <td>246.605</td> <th>  Durbin-Watson:     </th> <td>   1.921</td> \n",
       "</tr>\n",
       "<tr>\n",
       "  <th>Prob(Omnibus):</th> <td> 0.000</td>  <th>  Jarque-Bera (JB):  </th> <td> 689.613</td> \n",
       "</tr>\n",
       "<tr>\n",
       "  <th>Skew:</th>          <td>-1.297</td>  <th>  Prob(JB):          </th> <td>1.79e-150</td>\n",
       "</tr>\n",
       "<tr>\n",
       "  <th>Kurtosis:</th>      <td> 6.246</td>  <th>  Cond. No.          </th> <td>3.08e+17</td> \n",
       "</tr>\n",
       "</table><br/><br/>Warnings:<br/>[1] Standard Errors assume that the covariance matrix of the errors is correctly specified.<br/>[2] The smallest eigenvalue is 2.85e-23. This might indicate that there are<br/>strong multicollinearity problems or that the design matrix is singular."
      ],
      "text/plain": [
       "<class 'statsmodels.iolib.summary.Summary'>\n",
       "\"\"\"\n",
       "                            OLS Regression Results                            \n",
       "==============================================================================\n",
       "Dep. Variable:                 Rating   R-squared:                       0.436\n",
       "Model:                            OLS   Adj. R-squared:                  0.422\n",
       "Method:                 Least Squares   F-statistic:                     30.12\n",
       "Date:                Fri, 20 Jul 2018   Prob (F-statistic):           4.21e-99\n",
       "Time:                        16:09:45   Log-Likelihood:                 371.77\n",
       "No. Observations:                 959   AIC:                            -693.5\n",
       "Df Residuals:                     934   BIC:                            -571.9\n",
       "Df Model:                          24                                         \n",
       "Covariance Type:            nonrobust                                         \n",
       "===============================================================================================\n",
       "                                  coef    std err          t      P>|t|      [0.025      0.975]\n",
       "-----------------------------------------------------------------------------------------------\n",
       "const                           0.0715      0.015      4.665      0.000       0.041       0.102\n",
       "Level of difficulty            -0.0592      0.008     -7.086      0.000      -0.076      -0.043\n",
       "Total reviews                   0.0082      0.006      1.344      0.179      -0.004       0.020\n",
       "Student size                 3.963e-05   8.32e-06      4.763      0.000    2.33e-05     5.6e-05\n",
       "Type_public                     0.1756      0.037      4.720      0.000       0.103       0.249\n",
       "Type_private                   -0.1041      0.022     -4.737      0.000      -0.147      -0.061\n",
       "Region_west                     0.2914      0.063      4.635      0.000       0.168       0.415\n",
       "Region_east                    -0.1041      0.022     -4.737      0.000      -0.147      -0.061\n",
       "Region_south                   -0.1158      0.026     -4.401      0.000      -0.167      -0.064\n",
       "Accessible outside class       -0.6907      0.470     -1.469      0.142      -1.613       0.232\n",
       "Amazing lectures               -0.6326      0.467     -1.355      0.176      -1.549       0.284\n",
       "Beware of pop quizzes          -0.8790      0.483     -1.819      0.069      -1.827       0.069\n",
       "Caring                         -0.8033      0.468     -1.716      0.086      -1.722       0.115\n",
       "Clear grading criteria         -0.9279      0.468     -1.983      0.048      -1.846      -0.010\n",
       "Extra credit                   -0.8275      0.469     -1.765      0.078      -1.748       0.093\n",
       "Get ready to read              -1.0310      0.467     -2.208      0.027      -1.947      -0.115\n",
       "Gives good feedback            -0.8260      0.469     -1.763      0.078      -1.745       0.094\n",
       "Graded by few things           -1.1026      0.471     -2.342      0.019      -2.027      -0.179\n",
       "Group projects                 -1.2307      0.471     -2.614      0.009      -2.155      -0.307\n",
       "Hilarious                      -0.8491      0.466     -1.822      0.069      -1.764       0.065\n",
       "Inspirational                  -0.8072      0.468     -1.724      0.085      -1.726       0.112\n",
       "Lecture heavy                  -1.1080      0.467     -2.372      0.018      -2.025      -0.191\n",
       "Lots of homework               -1.1077      0.469     -2.360      0.018      -2.029      -0.187\n",
       "Participation matters          -0.8099      0.470     -1.724      0.085      -1.732       0.112\n",
       "Respected                      -0.7001      0.464     -1.509      0.132      -1.611       0.210\n",
       "Skip class? you won't pass.    -0.9535      0.469     -2.033      0.042      -1.874      -0.033\n",
       "So many papers                 -1.5344      0.486     -3.160      0.002      -2.487      -0.581\n",
       "Test heavy                     -1.3536      0.475     -2.850      0.004      -2.286      -0.422\n",
       "Tough grader                   -1.3080      0.465     -2.811      0.005      -2.221      -0.395\n",
       "==============================================================================\n",
       "Omnibus:                      246.605   Durbin-Watson:                   1.921\n",
       "Prob(Omnibus):                  0.000   Jarque-Bera (JB):              689.613\n",
       "Skew:                          -1.297   Prob(JB):                    1.79e-150\n",
       "Kurtosis:                       6.246   Cond. No.                     3.08e+17\n",
       "==============================================================================\n",
       "\n",
       "Warnings:\n",
       "[1] Standard Errors assume that the covariance matrix of the errors is correctly specified.\n",
       "[2] The smallest eigenvalue is 2.85e-23. This might indicate that there are\n",
       "strong multicollinearity problems or that the design matrix is singular.\n",
       "\"\"\""
      ]
     },
     "execution_count": 20,
     "metadata": {},
     "output_type": "execute_result"
    },
    {
     "data": {
      "image/png": "[encoded data removed]",
      "text/plain": [
       "<Figure size 576x396 with 1 Axes>"
      ]
     },
     "metadata": {},
     "output_type": "display_data"
    }
   ],
   "source": [
    "# Model 2: Tested Box transformation of y and noted worse result\n",
    "\n",
    "from scipy import stats\n",
    "\n",
    "dfs_box=dfs_clean.copy()\n",
    "lamb=stats.boxcox_normmax(dfs_box.Rating, brack=(-1.9, 1.9))\n",
    "\n",
    "dfs_box.Rating=(np.power(dfs_box.Rating,-0.2282)-1)/-0.2282\n",
    "\n",
    "plt.hist(dfs_box.Rating);\n",
    "\n",
    "\n",
    "X_train2, X_test2, y_train2, y_test2=tt_split(dfs_box, 'Rating', 0.8)\n",
    "ssX2 = StandardScaler()\n",
    "X_train_scaled2 = ssX.fit_transform(X_train2)\n",
    "\n",
    "\n",
    "\n",
    "model2=sm.OLS(y_train2, sm.add_constant(X_train2))\n",
    "fit2=model2.fit()\n",
    "fit2.summary()"
   ]
  },
  {
   "cell_type": "code",
   "execution_count": null,
   "metadata": {},
   "outputs": [],
   "source": []
  },
  {
   "cell_type": "code",
   "execution_count": 74,
   "metadata": {},
   "outputs": [
    {
     "data": {
      "text/html": [
       "<table class=\"simpletable\">\n",
       "<caption>OLS Regression Results</caption>\n",
       "<tr>\n",
       "  <th>Dep. Variable:</th>         <td>Rating</td>      <th>  R-squared:         </th> <td>   0.445</td> \n",
       "</tr>\n",
       "<tr>\n",
       "  <th>Model:</th>                   <td>OLS</td>       <th>  Adj. R-squared:    </th> <td>   0.430</td> \n",
       "</tr>\n",
       "<tr>\n",
       "  <th>Method:</th>             <td>Least Squares</td>  <th>  F-statistic:       </th> <td>   31.17</td> \n",
       "</tr>\n",
       "<tr>\n",
       "  <th>Date:</th>             <td>Fri, 20 Jul 2018</td> <th>  Prob (F-statistic):</th> <td>4.51e-102</td>\n",
       "</tr>\n",
       "<tr>\n",
       "  <th>Time:</th>                 <td>16:19:26</td>     <th>  Log-Likelihood:    </th> <td>  144.07</td> \n",
       "</tr>\n",
       "<tr>\n",
       "  <th>No. Observations:</th>      <td>   959</td>      <th>  AIC:               </th> <td>  -238.1</td> \n",
       "</tr>\n",
       "<tr>\n",
       "  <th>Df Residuals:</th>          <td>   934</td>      <th>  BIC:               </th> <td>  -116.5</td> \n",
       "</tr>\n",
       "<tr>\n",
       "  <th>Df Model:</th>              <td>    24</td>      <th>                     </th>     <td> </td>    \n",
       "</tr>\n",
       "<tr>\n",
       "  <th>Covariance Type:</th>      <td>nonrobust</td>    <th>                     </th>     <td> </td>    \n",
       "</tr>\n",
       "</table>\n",
       "<table class=\"simpletable\">\n",
       "<tr>\n",
       "               <td></td>                  <th>coef</th>     <th>std err</th>      <th>t</th>      <th>P>|t|</th>  <th>[0.025</th>    <th>0.975]</th>  \n",
       "</tr>\n",
       "<tr>\n",
       "  <th>const</th>                       <td>    0.0863</td> <td>    0.019</td> <td>    4.439</td> <td> 0.000</td> <td>    0.048</td> <td>    0.124</td>\n",
       "</tr>\n",
       "<tr>\n",
       "  <th>Level of difficulty</th>         <td>   -0.0769</td> <td>    0.011</td> <td>   -7.259</td> <td> 0.000</td> <td>   -0.098</td> <td>   -0.056</td>\n",
       "</tr>\n",
       "<tr>\n",
       "  <th>Total reviews</th>               <td>    0.0075</td> <td>    0.008</td> <td>    0.963</td> <td> 0.336</td> <td>   -0.008</td> <td>    0.023</td>\n",
       "</tr>\n",
       "<tr>\n",
       "  <th>Student size</th>                <td>  4.79e-05</td> <td> 1.06e-05</td> <td>    4.539</td> <td> 0.000</td> <td> 2.72e-05</td> <td> 6.86e-05</td>\n",
       "</tr>\n",
       "<tr>\n",
       "  <th>Type_public</th>                 <td>    0.2125</td> <td>    0.047</td> <td>    4.504</td> <td> 0.000</td> <td>    0.120</td> <td>    0.305</td>\n",
       "</tr>\n",
       "<tr>\n",
       "  <th>Type_private</th>                <td>   -0.1262</td> <td>    0.028</td> <td>   -4.529</td> <td> 0.000</td> <td>   -0.181</td> <td>   -0.072</td>\n",
       "</tr>\n",
       "<tr>\n",
       "  <th>Region_west</th>                 <td>    0.3513</td> <td>    0.080</td> <td>    4.406</td> <td> 0.000</td> <td>    0.195</td> <td>    0.508</td>\n",
       "</tr>\n",
       "<tr>\n",
       "  <th>Region_east</th>                 <td>   -0.1262</td> <td>    0.028</td> <td>   -4.529</td> <td> 0.000</td> <td>   -0.181</td> <td>   -0.072</td>\n",
       "</tr>\n",
       "<tr>\n",
       "  <th>Region_south</th>                <td>   -0.1388</td> <td>    0.033</td> <td>   -4.159</td> <td> 0.000</td> <td>   -0.204</td> <td>   -0.073</td>\n",
       "</tr>\n",
       "<tr>\n",
       "  <th>Accessible outside class</th>    <td>   -0.8327</td> <td>    0.596</td> <td>   -1.397</td> <td> 0.163</td> <td>   -2.003</td> <td>    0.337</td>\n",
       "</tr>\n",
       "<tr>\n",
       "  <th>Amazing lectures</th>            <td>   -0.7628</td> <td>    0.592</td> <td>   -1.289</td> <td> 0.198</td> <td>   -1.924</td> <td>    0.399</td>\n",
       "</tr>\n",
       "<tr>\n",
       "  <th>Beware of pop quizzes</th>       <td>   -1.1096</td> <td>    0.613</td> <td>   -1.811</td> <td> 0.070</td> <td>   -2.312</td> <td>    0.093</td>\n",
       "</tr>\n",
       "<tr>\n",
       "  <th>Caring</th>                      <td>   -0.9853</td> <td>    0.593</td> <td>   -1.660</td> <td> 0.097</td> <td>   -2.150</td> <td>    0.179</td>\n",
       "</tr>\n",
       "<tr>\n",
       "  <th>Clear grading criteria</th>      <td>   -1.1576</td> <td>    0.593</td> <td>   -1.951</td> <td> 0.051</td> <td>   -2.322</td> <td>    0.007</td>\n",
       "</tr>\n",
       "<tr>\n",
       "  <th>Extra credit</th>                <td>   -1.0256</td> <td>    0.594</td> <td>   -1.725</td> <td> 0.085</td> <td>   -2.192</td> <td>    0.141</td>\n",
       "</tr>\n",
       "<tr>\n",
       "  <th>Get ready to read</th>           <td>   -1.2853</td> <td>    0.592</td> <td>   -2.171</td> <td> 0.030</td> <td>   -2.447</td> <td>   -0.123</td>\n",
       "</tr>\n",
       "<tr>\n",
       "  <th>Gives good feedback</th>         <td>   -1.0201</td> <td>    0.594</td> <td>   -1.717</td> <td> 0.086</td> <td>   -2.186</td> <td>    0.146</td>\n",
       "</tr>\n",
       "<tr>\n",
       "  <th>Graded by few things</th>        <td>   -1.3895</td> <td>    0.597</td> <td>   -2.327</td> <td> 0.020</td> <td>   -2.561</td> <td>   -0.218</td>\n",
       "</tr>\n",
       "<tr>\n",
       "  <th>Group projects</th>              <td>   -1.5524</td> <td>    0.597</td> <td>   -2.601</td> <td> 0.009</td> <td>   -2.724</td> <td>   -0.381</td>\n",
       "</tr>\n",
       "<tr>\n",
       "  <th>Hilarious</th>                   <td>   -1.0471</td> <td>    0.591</td> <td>   -1.772</td> <td> 0.077</td> <td>   -2.207</td> <td>    0.113</td>\n",
       "</tr>\n",
       "<tr>\n",
       "  <th>Inspirational</th>               <td>   -0.9954</td> <td>    0.594</td> <td>   -1.677</td> <td> 0.094</td> <td>   -2.160</td> <td>    0.170</td>\n",
       "</tr>\n",
       "<tr>\n",
       "  <th>Lecture heavy</th>               <td>   -1.3839</td> <td>    0.592</td> <td>   -2.337</td> <td> 0.020</td> <td>   -2.546</td> <td>   -0.222</td>\n",
       "</tr>\n",
       "<tr>\n",
       "  <th>Lots of homework</th>            <td>   -1.3856</td> <td>    0.595</td> <td>   -2.329</td> <td> 0.020</td> <td>   -2.553</td> <td>   -0.218</td>\n",
       "</tr>\n",
       "<tr>\n",
       "  <th>Participation matters</th>       <td>   -1.0022</td> <td>    0.596</td> <td>   -1.682</td> <td> 0.093</td> <td>   -2.171</td> <td>    0.167</td>\n",
       "</tr>\n",
       "<tr>\n",
       "  <th>Respected</th>                   <td>   -0.8521</td> <td>    0.588</td> <td>   -1.448</td> <td> 0.148</td> <td>   -2.007</td> <td>    0.302</td>\n",
       "</tr>\n",
       "<tr>\n",
       "  <th>Skip class? you won't pass.</th> <td>   -1.1965</td> <td>    0.595</td> <td>   -2.012</td> <td> 0.044</td> <td>   -2.363</td> <td>   -0.029</td>\n",
       "</tr>\n",
       "<tr>\n",
       "  <th>So many papers</th>              <td>   -1.9306</td> <td>    0.616</td> <td>   -3.135</td> <td> 0.002</td> <td>   -3.139</td> <td>   -0.722</td>\n",
       "</tr>\n",
       "<tr>\n",
       "  <th>Test heavy</th>                  <td>   -1.7045</td> <td>    0.602</td> <td>   -2.830</td> <td> 0.005</td> <td>   -2.886</td> <td>   -0.523</td>\n",
       "</tr>\n",
       "<tr>\n",
       "  <th>Tough grader</th>                <td>   -1.6241</td> <td>    0.590</td> <td>   -2.753</td> <td> 0.006</td> <td>   -2.782</td> <td>   -0.466</td>\n",
       "</tr>\n",
       "</table>\n",
       "<table class=\"simpletable\">\n",
       "<tr>\n",
       "  <th>Omnibus:</th>       <td>189.756</td> <th>  Durbin-Watson:     </th> <td>   1.910</td>\n",
       "</tr>\n",
       "<tr>\n",
       "  <th>Prob(Omnibus):</th> <td> 0.000</td>  <th>  Jarque-Bera (JB):  </th> <td> 403.931</td>\n",
       "</tr>\n",
       "<tr>\n",
       "  <th>Skew:</th>          <td>-1.106</td>  <th>  Prob(JB):          </th> <td>1.94e-88</td>\n",
       "</tr>\n",
       "<tr>\n",
       "  <th>Kurtosis:</th>      <td> 5.283</td>  <th>  Cond. No.          </th> <td>3.08e+17</td>\n",
       "</tr>\n",
       "</table><br/><br/>Warnings:<br/>[1] Standard Errors assume that the covariance matrix of the errors is correctly specified.<br/>[2] The smallest eigenvalue is 2.85e-23. This might indicate that there are<br/>strong multicollinearity problems or that the design matrix is singular."
      ],
      "text/plain": [
       "<class 'statsmodels.iolib.summary.Summary'>\n",
       "\"\"\"\n",
       "                            OLS Regression Results                            \n",
       "==============================================================================\n",
       "Dep. Variable:                 Rating   R-squared:                       0.445\n",
       "Model:                            OLS   Adj. R-squared:                  0.430\n",
       "Method:                 Least Squares   F-statistic:                     31.17\n",
       "Date:                Fri, 20 Jul 2018   Prob (F-statistic):          4.51e-102\n",
       "Time:                        16:19:26   Log-Likelihood:                 144.07\n",
       "No. Observations:                 959   AIC:                            -238.1\n",
       "Df Residuals:                     934   BIC:                            -116.5\n",
       "Df Model:                          24                                         \n",
       "Covariance Type:            nonrobust                                         \n",
       "===============================================================================================\n",
       "                                  coef    std err          t      P>|t|      [0.025      0.975]\n",
       "-----------------------------------------------------------------------------------------------\n",
       "const                           0.0863      0.019      4.439      0.000       0.048       0.124\n",
       "Level of difficulty            -0.0769      0.011     -7.259      0.000      -0.098      -0.056\n",
       "Total reviews                   0.0075      0.008      0.963      0.336      -0.008       0.023\n",
       "Student size                  4.79e-05   1.06e-05      4.539      0.000    2.72e-05    6.86e-05\n",
       "Type_public                     0.2125      0.047      4.504      0.000       0.120       0.305\n",
       "Type_private                   -0.1262      0.028     -4.529      0.000      -0.181      -0.072\n",
       "Region_west                     0.3513      0.080      4.406      0.000       0.195       0.508\n",
       "Region_east                    -0.1262      0.028     -4.529      0.000      -0.181      -0.072\n",
       "Region_south                   -0.1388      0.033     -4.159      0.000      -0.204      -0.073\n",
       "Accessible outside class       -0.8327      0.596     -1.397      0.163      -2.003       0.337\n",
       "Amazing lectures               -0.7628      0.592     -1.289      0.198      -1.924       0.399\n",
       "Beware of pop quizzes          -1.1096      0.613     -1.811      0.070      -2.312       0.093\n",
       "Caring                         -0.9853      0.593     -1.660      0.097      -2.150       0.179\n",
       "Clear grading criteria         -1.1576      0.593     -1.951      0.051      -2.322       0.007\n",
       "Extra credit                   -1.0256      0.594     -1.725      0.085      -2.192       0.141\n",
       "Get ready to read              -1.2853      0.592     -2.171      0.030      -2.447      -0.123\n",
       "Gives good feedback            -1.0201      0.594     -1.717      0.086      -2.186       0.146\n",
       "Graded by few things           -1.3895      0.597     -2.327      0.020      -2.561      -0.218\n",
       "Group projects                 -1.5524      0.597     -2.601      0.009      -2.724      -0.381\n",
       "Hilarious                      -1.0471      0.591     -1.772      0.077      -2.207       0.113\n",
       "Inspirational                  -0.9954      0.594     -1.677      0.094      -2.160       0.170\n",
       "Lecture heavy                  -1.3839      0.592     -2.337      0.020      -2.546      -0.222\n",
       "Lots of homework               -1.3856      0.595     -2.329      0.020      -2.553      -0.218\n",
       "Participation matters          -1.0022      0.596     -1.682      0.093      -2.171       0.167\n",
       "Respected                      -0.8521      0.588     -1.448      0.148      -2.007       0.302\n",
       "Skip class? you won't pass.    -1.1965      0.595     -2.012      0.044      -2.363      -0.029\n",
       "So many papers                 -1.9306      0.616     -3.135      0.002      -3.139      -0.722\n",
       "Test heavy                     -1.7045      0.602     -2.830      0.005      -2.886      -0.523\n",
       "Tough grader                   -1.6241      0.590     -2.753      0.006      -2.782      -0.466\n",
       "==============================================================================\n",
       "Omnibus:                      189.756   Durbin-Watson:                   1.910\n",
       "Prob(Omnibus):                  0.000   Jarque-Bera (JB):              403.931\n",
       "Skew:                          -1.106   Prob(JB):                     1.94e-88\n",
       "Kurtosis:                       5.283   Cond. No.                     3.08e+17\n",
       "==============================================================================\n",
       "\n",
       "Warnings:\n",
       "[1] Standard Errors assume that the covariance matrix of the errors is correctly specified.\n",
       "[2] The smallest eigenvalue is 2.85e-23. This might indicate that there are\n",
       "strong multicollinearity problems or that the design matrix is singular.\n",
       "\"\"\""
      ]
     },
     "execution_count": 74,
     "metadata": {},
     "output_type": "execute_result"
    }
   ],
   "source": [
    "# Model 3: Tested log transform of y, and noted worse result\n",
    "\n",
    "dfs_log=dfs_clean.copy()\n",
    "dfs_log['Rating']=np.log(dfs_log['Rating'])\n",
    "\n",
    "X_train3, X_test3, y_train3, y_test3=tt_split(dfs_log, 'Rating', 0.8)\n",
    "ssX3 = StandardScaler()\n",
    "X_train_scaled3 = ssX.fit_transform(X_train3)\n",
    "\n",
    "\n",
    "model3=sm.OLS(y_train3, sm.add_constant(X_train3))\n",
    "fit3=model3.fit()\n",
    "fit3.summary()"
   ]
  },
  {
   "cell_type": "code",
   "execution_count": 21,
   "metadata": {},
   "outputs": [],
   "source": [
    "# model 4 with lasso approach"
   ]
  },
  {
   "cell_type": "code",
   "execution_count": 22,
   "metadata": {},
   "outputs": [],
   "source": [
    "from sklearn.linear_model import Lasso\n",
    "from sklearn.model_selection import GridSearchCV\n",
    "from sklearn.linear_model import Ridge"
   ]
  },
  {
   "cell_type": "code",
   "execution_count": 23,
   "metadata": {},
   "outputs": [],
   "source": [
    "X_train, X_test, y_train, y_test=tt_split(dfs_clean_smaller, 'Rating', 0.8)"
   ]
  },
  {
   "cell_type": "code",
   "execution_count": 24,
   "metadata": {},
   "outputs": [],
   "source": [
    "SSX4=StandardScaler()\n",
    "X_train_scaled=SSX4.fit_transform(X_train)\n",
    "X_test_scaled=SSX4.transform(X_test)"
   ]
  },
  {
   "cell_type": "code",
   "execution_count": 25,
   "metadata": {},
   "outputs": [],
   "source": [
    "# define pipeline\n",
    "\n",
    "est=make_pipeline(PolynomialFeatures(2), Lasso(1))"
   ]
  },
  {
   "cell_type": "code",
   "execution_count": 26,
   "metadata": {
    "scrolled": true
   },
   "outputs": [
    {
     "data": {
      "text/plain": [
       "dict_keys(['memory', 'steps', 'polynomialfeatures', 'lasso', 'polynomialfeatures__degree', 'polynomialfeatures__include_bias', 'polynomialfeatures__interaction_only', 'lasso__alpha', 'lasso__copy_X', 'lasso__fit_intercept', 'lasso__max_iter', 'lasso__normalize', 'lasso__positive', 'lasso__precompute', 'lasso__random_state', 'lasso__selection', 'lasso__tol', 'lasso__warm_start'])"
      ]
     },
     "execution_count": 26,
     "metadata": {},
     "output_type": "execute_result"
    }
   ],
   "source": [
    "est.get_params().keys()"
   ]
  },
  {
   "cell_type": "code",
   "execution_count": 27,
   "metadata": {},
   "outputs": [],
   "source": [
    "#est.get_params().keys()\n",
    "#est.set_params(polynomialfeatures__degree=4)"
   ]
  },
  {
   "cell_type": "code",
   "execution_count": 28,
   "metadata": {
    "scrolled": true
   },
   "outputs": [
    {
     "name": "stderr",
     "output_type": "stream",
     "text": [
      "/Users/xzhou/anaconda3/lib/python3.6/site-packages/sklearn/linear_model/coordinate_descent.py:491: ConvergenceWarning: Objective did not converge. You might want to increase the number of iterations. Fitting data with very small alpha may cause precision problems.\n",
      "  ConvergenceWarning)\n",
      "/Users/xzhou/anaconda3/lib/python3.6/site-packages/sklearn/linear_model/coordinate_descent.py:491: ConvergenceWarning: Objective did not converge. You might want to increase the number of iterations. Fitting data with very small alpha may cause precision problems.\n",
      "  ConvergenceWarning)\n",
      "/Users/xzhou/anaconda3/lib/python3.6/site-packages/sklearn/linear_model/coordinate_descent.py:491: ConvergenceWarning: Objective did not converge. You might want to increase the number of iterations. Fitting data with very small alpha may cause precision problems.\n",
      "  ConvergenceWarning)\n",
      "/Users/xzhou/anaconda3/lib/python3.6/site-packages/sklearn/linear_model/coordinate_descent.py:491: ConvergenceWarning: Objective did not converge. You might want to increase the number of iterations. Fitting data with very small alpha may cause precision problems.\n",
      "  ConvergenceWarning)\n",
      "/Users/xzhou/anaconda3/lib/python3.6/site-packages/sklearn/linear_model/coordinate_descent.py:491: ConvergenceWarning: Objective did not converge. You might want to increase the number of iterations. Fitting data with very small alpha may cause precision problems.\n",
      "  ConvergenceWarning)\n",
      "/Users/xzhou/anaconda3/lib/python3.6/site-packages/sklearn/linear_model/coordinate_descent.py:491: ConvergenceWarning: Objective did not converge. You might want to increase the number of iterations. Fitting data with very small alpha may cause precision problems.\n",
      "  ConvergenceWarning)\n",
      "/Users/xzhou/anaconda3/lib/python3.6/site-packages/sklearn/linear_model/coordinate_descent.py:491: ConvergenceWarning: Objective did not converge. You might want to increase the number of iterations. Fitting data with very small alpha may cause precision problems.\n",
      "  ConvergenceWarning)\n",
      "/Users/xzhou/anaconda3/lib/python3.6/site-packages/sklearn/linear_model/coordinate_descent.py:491: ConvergenceWarning: Objective did not converge. You might want to increase the number of iterations. Fitting data with very small alpha may cause precision problems.\n",
      "  ConvergenceWarning)\n",
      "/Users/xzhou/anaconda3/lib/python3.6/site-packages/sklearn/linear_model/coordinate_descent.py:491: ConvergenceWarning: Objective did not converge. You might want to increase the number of iterations. Fitting data with very small alpha may cause precision problems.\n",
      "  ConvergenceWarning)\n",
      "/Users/xzhou/anaconda3/lib/python3.6/site-packages/sklearn/linear_model/coordinate_descent.py:491: ConvergenceWarning: Objective did not converge. You might want to increase the number of iterations. Fitting data with very small alpha may cause precision problems.\n",
      "  ConvergenceWarning)\n"
     ]
    }
   ],
   "source": [
    "params = {'lasso__alpha': [1e-4, 1e-3, 1e-2, 1e-1, 1] , 'polynomialfeatures__degree': [1, 2, 3]}\n",
    "grid = GridSearchCV(est, param_grid=params, cv=5)\n",
    "fit=grid.fit(X_train_scaled, y_train)"
   ]
  },
  {
   "cell_type": "code",
   "execution_count": 29,
   "metadata": {},
   "outputs": [
    {
     "data": {
      "text/plain": [
       "array([ 0.        , -0.22535961,  0.14365742,  0.22973502,  0.16639805,\n",
       "        0.0845174 ,  0.15943565,  0.1285289 ,  0.15785578,  0.13537392,\n",
       "        0.20265492,  0.06205456])"
      ]
     },
     "execution_count": 29,
     "metadata": {},
     "output_type": "execute_result"
    }
   ],
   "source": [
    "grid.best_estimator_.get_params()['lasso'].coef_"
   ]
  },
  {
   "cell_type": "code",
   "execution_count": 30,
   "metadata": {},
   "outputs": [
    {
     "data": {
      "text/plain": [
       "{'lasso__alpha': 0.001, 'polynomialfeatures__degree': 1}"
      ]
     },
     "execution_count": 30,
     "metadata": {},
     "output_type": "execute_result"
    }
   ],
   "source": [
    "grid.best_params_"
   ]
  },
  {
   "cell_type": "code",
   "execution_count": 31,
   "metadata": {},
   "outputs": [
    {
     "data": {
      "text/plain": [
       "0.4057764442229708"
      ]
     },
     "execution_count": 31,
     "metadata": {},
     "output_type": "execute_result"
    }
   ],
   "source": [
    "grid.score(X_test_scaled, y_test)"
   ]
  },
  {
   "cell_type": "code",
   "execution_count": 32,
   "metadata": {},
   "outputs": [
    {
     "data": {
      "text/html": [
       "<div>\n",
       "<style scoped>\n",
       "    .dataframe tbody tr th:only-of-type {\n",
       "        vertical-align: middle;\n",
       "    }\n",
       "\n",
       "    .dataframe tbody tr th {\n",
       "        vertical-align: top;\n",
       "    }\n",
       "\n",
       "    .dataframe thead th {\n",
       "        text-align: right;\n",
       "    }\n",
       "</style>\n",
       "<table border=\"1\" class=\"dataframe\">\n",
       "  <thead>\n",
       "    <tr style=\"text-align: right;\">\n",
       "      <th></th>\n",
       "      <th></th>\n",
       "      <th>Level of difficulty</th>\n",
       "      <th>Accessible outside class</th>\n",
       "      <th>Amazing lectures</th>\n",
       "      <th>Caring</th>\n",
       "      <th>Clear grading criteria</th>\n",
       "      <th>Gives good feedback</th>\n",
       "      <th>Hilarious</th>\n",
       "      <th>Inspirational</th>\n",
       "      <th>Participation matters</th>\n",
       "      <th>Respected</th>\n",
       "      <th>Skip class? you won't pass.</th>\n",
       "    </tr>\n",
       "  </thead>\n",
       "  <tbody>\n",
       "    <tr>\n",
       "      <th>berkeley</th>\n",
       "      <th>692</th>\n",
       "      <td>3.9</td>\n",
       "      <td>0.00</td>\n",
       "      <td>0.0</td>\n",
       "      <td>0.00</td>\n",
       "      <td>0.00</td>\n",
       "      <td>0.00</td>\n",
       "      <td>0.00</td>\n",
       "      <td>0.00</td>\n",
       "      <td>0.0</td>\n",
       "      <td>0.00</td>\n",
       "      <td>0.00</td>\n",
       "    </tr>\n",
       "    <tr>\n",
       "      <th>nyu</th>\n",
       "      <th>489</th>\n",
       "      <td>3.5</td>\n",
       "      <td>0.00</td>\n",
       "      <td>0.0</td>\n",
       "      <td>0.00</td>\n",
       "      <td>0.25</td>\n",
       "      <td>0.00</td>\n",
       "      <td>0.00</td>\n",
       "      <td>0.00</td>\n",
       "      <td>0.0</td>\n",
       "      <td>0.00</td>\n",
       "      <td>0.00</td>\n",
       "    </tr>\n",
       "    <tr>\n",
       "      <th rowspan=\"2\" valign=\"top\">uf</th>\n",
       "      <th>1420</th>\n",
       "      <td>3.0</td>\n",
       "      <td>0.08</td>\n",
       "      <td>0.0</td>\n",
       "      <td>0.08</td>\n",
       "      <td>0.00</td>\n",
       "      <td>0.00</td>\n",
       "      <td>0.08</td>\n",
       "      <td>0.25</td>\n",
       "      <td>0.0</td>\n",
       "      <td>0.17</td>\n",
       "      <td>0.00</td>\n",
       "    </tr>\n",
       "    <tr>\n",
       "      <th>4245</th>\n",
       "      <td>3.3</td>\n",
       "      <td>0.00</td>\n",
       "      <td>0.0</td>\n",
       "      <td>0.08</td>\n",
       "      <td>0.00</td>\n",
       "      <td>0.17</td>\n",
       "      <td>0.00</td>\n",
       "      <td>0.08</td>\n",
       "      <td>0.0</td>\n",
       "      <td>0.00</td>\n",
       "      <td>0.25</td>\n",
       "    </tr>\n",
       "    <tr>\n",
       "      <th>berkeley</th>\n",
       "      <th>206</th>\n",
       "      <td>1.9</td>\n",
       "      <td>0.00</td>\n",
       "      <td>0.0</td>\n",
       "      <td>0.20</td>\n",
       "      <td>0.00</td>\n",
       "      <td>0.00</td>\n",
       "      <td>0.00</td>\n",
       "      <td>0.40</td>\n",
       "      <td>0.0</td>\n",
       "      <td>0.40</td>\n",
       "      <td>0.00</td>\n",
       "    </tr>\n",
       "  </tbody>\n",
       "</table>\n",
       "</div>"
      ],
      "text/plain": [
       "               Level of difficulty  Accessible outside class  \\\n",
       "berkeley 692                   3.9                      0.00   \n",
       "nyu      489                   3.5                      0.00   \n",
       "uf       1420                  3.0                      0.08   \n",
       "         4245                  3.3                      0.00   \n",
       "berkeley 206                   1.9                      0.00   \n",
       "\n",
       "               Amazing lectures  Caring  Clear grading criteria  \\\n",
       "berkeley 692                0.0    0.00                    0.00   \n",
       "nyu      489                0.0    0.00                    0.25   \n",
       "uf       1420               0.0    0.08                    0.00   \n",
       "         4245               0.0    0.08                    0.00   \n",
       "berkeley 206                0.0    0.20                    0.00   \n",
       "\n",
       "               Gives good feedback  Hilarious  Inspirational  \\\n",
       "berkeley 692                  0.00       0.00           0.00   \n",
       "nyu      489                  0.00       0.00           0.00   \n",
       "uf       1420                 0.00       0.08           0.25   \n",
       "         4245                 0.17       0.00           0.08   \n",
       "berkeley 206                  0.00       0.00           0.40   \n",
       "\n",
       "               Participation matters  Respected  Skip class? you won't pass.  \n",
       "berkeley 692                     0.0       0.00                         0.00  \n",
       "nyu      489                     0.0       0.00                         0.00  \n",
       "uf       1420                    0.0       0.17                         0.00  \n",
       "         4245                    0.0       0.00                         0.25  \n",
       "berkeley 206                     0.0       0.40                         0.00  "
      ]
     },
     "execution_count": 32,
     "metadata": {},
     "output_type": "execute_result"
    }
   ],
   "source": [
    "X_train.head()"
   ]
  },
  {
   "cell_type": "code",
   "execution_count": 33,
   "metadata": {},
   "outputs": [],
   "source": [
    "y_predict=fit.predict(X_test_scaled)"
   ]
  },
  {
   "cell_type": "code",
   "execution_count": 34,
   "metadata": {
    "scrolled": true
   },
   "outputs": [],
   "source": [
    "y_residual=y_test-y_predict"
   ]
  },
  {
   "cell_type": "code",
   "execution_count": 35,
   "metadata": {
    "scrolled": true
   },
   "outputs": [
    {
     "data": {
      "image/png": "[encoded data removed]",
      "text/plain": [
       "<Figure size 576x396 with 1 Axes>"
      ]
     },
     "metadata": {},
     "output_type": "display_data"
    }
   ],
   "source": [
    "#plt.plot(dfs_clean_smaller['Rating'],edgecolor='black', linewidth=1.2, bins=np.linspace(1.0,5.0,16))\n",
    "plt.scatter(np.linspace(0,1000,3839), y_residual, alpha=0.5)\n",
    "plt.plot(np.linspace(0,1010,3839), np.linspace(0,0,3839), 'r--')\n",
    "plt.title(\"Residual Plot\")\n",
    "plt.xlabel(\"\")\n",
    "plt.ylabel(\"Residuals\")\n",
    "plt.tick_params(\n",
    "    axis='x',          # changes apply to the x-axis\n",
    "    which='both',      # both major and minor ticks are affected\n",
    "    bottom=False,      # ticks along the bottom edge are off\n",
    "    top=False,         # ticks along the top edge are off\n",
    "    labelbottom=False)\n",
    "\n",
    "\n",
    "\n",
    "plt.show()"
   ]
  },
  {
   "cell_type": "code",
   "execution_count": null,
   "metadata": {},
   "outputs": [],
   "source": []
  },
  {
   "cell_type": "code",
   "execution_count": 53,
   "metadata": {},
   "outputs": [],
   "source": [
    "# Modle 5 with Ridge model\n",
    "\n",
    "degree=2\n",
    "alphas= 1  #[1e-5, 1e-4, 1e-3,1e-2,1e-1]\n",
    "\n",
    "\n",
    "est2=make_pipeline(PolynomialFeatures(degree), Ridge(alpha=alphas))"
   ]
  },
  {
   "cell_type": "code",
   "execution_count": 54,
   "metadata": {},
   "outputs": [
    {
     "data": {
      "text/plain": [
       "dict_keys(['memory', 'steps', 'polynomialfeatures', 'ridge', 'polynomialfeatures__degree', 'polynomialfeatures__include_bias', 'polynomialfeatures__interaction_only', 'ridge__alpha', 'ridge__copy_X', 'ridge__fit_intercept', 'ridge__max_iter', 'ridge__normalize', 'ridge__random_state', 'ridge__solver', 'ridge__tol'])"
      ]
     },
     "execution_count": 54,
     "metadata": {},
     "output_type": "execute_result"
    }
   ],
   "source": [
    "est2.get_params().keys()"
   ]
  },
  {
   "cell_type": "code",
   "execution_count": 55,
   "metadata": {
    "scrolled": true
   },
   "outputs": [
    {
     "data": {
      "text/plain": [
       "GridSearchCV(cv=5, error_score='raise',\n",
       "       estimator=Pipeline(memory=None,\n",
       "     steps=[('polynomialfeatures', PolynomialFeatures(degree=2, include_bias=True, interaction_only=False)), ('ridge', Ridge(alpha=1, copy_X=True, fit_intercept=True, max_iter=None,\n",
       "   normalize=False, random_state=None, solver='auto', tol=0.001))]),\n",
       "       fit_params=None, iid=True, n_jobs=1,\n",
       "       param_grid={'ridge__alpha': [0.0001, 0.001, 0.01, 0.1, 1], 'polynomialfeatures__degree': [1, 2, 3]},\n",
       "       pre_dispatch='2*n_jobs', refit=True, return_train_score='warn',\n",
       "       scoring=None, verbose=0)"
      ]
     },
     "execution_count": 55,
     "metadata": {},
     "output_type": "execute_result"
    }
   ],
   "source": [
    "params2 = {'ridge__alpha': [1e-4, 1e-3, 1e-2, 1e-1, 1] , 'polynomialfeatures__degree': [1, 2, 3]}\n",
    "grid2 = GridSearchCV(est2, param_grid=params2, cv=5)\n",
    "grid2.fit(X_train_scaled, y_train)"
   ]
  },
  {
   "cell_type": "code",
   "execution_count": 56,
   "metadata": {},
   "outputs": [
    {
     "data": {
      "text/plain": [
       "array([ 0.        , -0.22503536,  0.14483339,  0.23082068,  0.16745131,\n",
       "        0.08628523,  0.16073567,  0.1298527 ,  0.15906314,  0.13681713,\n",
       "        0.20366588,  0.06403286])"
      ]
     },
     "execution_count": 56,
     "metadata": {},
     "output_type": "execute_result"
    }
   ],
   "source": [
    "grid2.best_estimator_.get_params()['ridge'].coef_"
   ]
  },
  {
   "cell_type": "code",
   "execution_count": 57,
   "metadata": {},
   "outputs": [
    {
     "data": {
      "text/plain": [
       "{'polynomialfeatures__degree': 1, 'ridge__alpha': 1}"
      ]
     },
     "execution_count": 57,
     "metadata": {},
     "output_type": "execute_result"
    }
   ],
   "source": [
    "grid2.best_params_"
   ]
  },
  {
   "cell_type": "code",
   "execution_count": 58,
   "metadata": {},
   "outputs": [
    {
     "data": {
      "text/plain": [
       "0.4055806422490368"
      ]
     },
     "execution_count": 58,
     "metadata": {},
     "output_type": "execute_result"
    }
   ],
   "source": [
    "grid2.score(X_test_scaled, y_test)"
   ]
  },
  {
   "cell_type": "code",
   "execution_count": null,
   "metadata": {},
   "outputs": [],
   "source": []
  },
  {
   "cell_type": "code",
   "execution_count": 59,
   "metadata": {},
   "outputs": [],
   "source": [
    "# Model 6: Elastic Net\n",
    "from sklearn.linear_model import ElasticNet"
   ]
  },
  {
   "cell_type": "code",
   "execution_count": 60,
   "metadata": {},
   "outputs": [],
   "source": [
    "degree=2\n",
    "alphas=1\n",
    "\n",
    "est3=make_pipeline(PolynomialFeatures(degree), ElasticNet(alpha=alphas))"
   ]
  },
  {
   "cell_type": "code",
   "execution_count": 61,
   "metadata": {},
   "outputs": [
    {
     "data": {
      "text/plain": [
       "dict_keys(['memory', 'steps', 'polynomialfeatures', 'elasticnet', 'polynomialfeatures__degree', 'polynomialfeatures__include_bias', 'polynomialfeatures__interaction_only', 'elasticnet__alpha', 'elasticnet__copy_X', 'elasticnet__fit_intercept', 'elasticnet__l1_ratio', 'elasticnet__max_iter', 'elasticnet__normalize', 'elasticnet__positive', 'elasticnet__precompute', 'elasticnet__random_state', 'elasticnet__selection', 'elasticnet__tol', 'elasticnet__warm_start'])"
      ]
     },
     "execution_count": 61,
     "metadata": {},
     "output_type": "execute_result"
    }
   ],
   "source": [
    "est3.get_params().keys()"
   ]
  },
  {
   "cell_type": "code",
   "execution_count": 62,
   "metadata": {
    "scrolled": true
   },
   "outputs": [
    {
     "name": "stderr",
     "output_type": "stream",
     "text": [
      "/Users/xzhou/anaconda3/lib/python3.6/site-packages/sklearn/linear_model/coordinate_descent.py:491: ConvergenceWarning: Objective did not converge. You might want to increase the number of iterations. Fitting data with very small alpha may cause precision problems.\n",
      "  ConvergenceWarning)\n",
      "/Users/xzhou/anaconda3/lib/python3.6/site-packages/sklearn/linear_model/coordinate_descent.py:491: ConvergenceWarning: Objective did not converge. You might want to increase the number of iterations. Fitting data with very small alpha may cause precision problems.\n",
      "  ConvergenceWarning)\n",
      "/Users/xzhou/anaconda3/lib/python3.6/site-packages/sklearn/linear_model/coordinate_descent.py:491: ConvergenceWarning: Objective did not converge. You might want to increase the number of iterations. Fitting data with very small alpha may cause precision problems.\n",
      "  ConvergenceWarning)\n",
      "/Users/xzhou/anaconda3/lib/python3.6/site-packages/sklearn/linear_model/coordinate_descent.py:491: ConvergenceWarning: Objective did not converge. You might want to increase the number of iterations. Fitting data with very small alpha may cause precision problems.\n",
      "  ConvergenceWarning)\n",
      "/Users/xzhou/anaconda3/lib/python3.6/site-packages/sklearn/linear_model/coordinate_descent.py:491: ConvergenceWarning: Objective did not converge. You might want to increase the number of iterations. Fitting data with very small alpha may cause precision problems.\n",
      "  ConvergenceWarning)\n",
      "/Users/xzhou/anaconda3/lib/python3.6/site-packages/sklearn/linear_model/coordinate_descent.py:491: ConvergenceWarning: Objective did not converge. You might want to increase the number of iterations. Fitting data with very small alpha may cause precision problems.\n",
      "  ConvergenceWarning)\n",
      "/Users/xzhou/anaconda3/lib/python3.6/site-packages/sklearn/linear_model/coordinate_descent.py:491: ConvergenceWarning: Objective did not converge. You might want to increase the number of iterations. Fitting data with very small alpha may cause precision problems.\n",
      "  ConvergenceWarning)\n",
      "/Users/xzhou/anaconda3/lib/python3.6/site-packages/sklearn/linear_model/coordinate_descent.py:491: ConvergenceWarning: Objective did not converge. You might want to increase the number of iterations. Fitting data with very small alpha may cause precision problems.\n",
      "  ConvergenceWarning)\n",
      "/Users/xzhou/anaconda3/lib/python3.6/site-packages/sklearn/linear_model/coordinate_descent.py:491: ConvergenceWarning: Objective did not converge. You might want to increase the number of iterations. Fitting data with very small alpha may cause precision problems.\n",
      "  ConvergenceWarning)\n",
      "/Users/xzhou/anaconda3/lib/python3.6/site-packages/sklearn/linear_model/coordinate_descent.py:491: ConvergenceWarning: Objective did not converge. You might want to increase the number of iterations. Fitting data with very small alpha may cause precision problems.\n",
      "  ConvergenceWarning)\n"
     ]
    },
    {
     "data": {
      "text/plain": [
       "GridSearchCV(cv=5, error_score='raise',\n",
       "       estimator=Pipeline(memory=None,\n",
       "     steps=[('polynomialfeatures', PolynomialFeatures(degree=2, include_bias=True, interaction_only=False)), ('elasticnet', ElasticNet(alpha=1, copy_X=True, fit_intercept=True, l1_ratio=0.5,\n",
       "      max_iter=1000, normalize=False, positive=False, precompute=False,\n",
       "      random_state=None, selection='cyclic', tol=0.0001, warm_start=False))]),\n",
       "       fit_params=None, iid=True, n_jobs=1,\n",
       "       param_grid={'elasticnet__alpha': [0.0001, 0.001, 0.01, 0.1, 1], 'polynomialfeatures__degree': [1, 2, 3]},\n",
       "       pre_dispatch='2*n_jobs', refit=True, return_train_score='warn',\n",
       "       scoring=None, verbose=0)"
      ]
     },
     "execution_count": 62,
     "metadata": {},
     "output_type": "execute_result"
    }
   ],
   "source": [
    "params = {'elasticnet__alpha': [1e-4, 1e-3, 1e-2, 1e-1, 1] , 'polynomialfeatures__degree': [1, 2, 3]}\n",
    "grid3 = GridSearchCV(est3, param_grid=params, cv=5)\n",
    "grid3.fit(X_train_scaled, y_train)"
   ]
  },
  {
   "cell_type": "code",
   "execution_count": 63,
   "metadata": {},
   "outputs": [
    {
     "data": {
      "text/plain": [
       "{'elasticnet__alpha': 0.01, 'polynomialfeatures__degree': 1}"
      ]
     },
     "execution_count": 63,
     "metadata": {},
     "output_type": "execute_result"
    }
   ],
   "source": [
    "grid3.best_params_"
   ]
  },
  {
   "cell_type": "code",
   "execution_count": 64,
   "metadata": {},
   "outputs": [
    {
     "data": {
      "text/plain": [
       "array([ 0.        , -0.22606538,  0.13724594,  0.22296543,  0.16071689,\n",
       "        0.07571041,  0.15233942,  0.12175314,  0.15159818,  0.12760483,\n",
       "        0.19684617,  0.05197278])"
      ]
     },
     "execution_count": 64,
     "metadata": {},
     "output_type": "execute_result"
    }
   ],
   "source": [
    "grid3.best_estimator_.get_params()['elasticnet'].coef_"
   ]
  },
  {
   "cell_type": "code",
   "execution_count": 65,
   "metadata": {},
   "outputs": [
    {
     "data": {
      "text/plain": [
       "0.406398317554983"
      ]
     },
     "execution_count": 65,
     "metadata": {},
     "output_type": "execute_result"
    }
   ],
   "source": [
    "grid3.score(X_test_scaled, y_test)"
   ]
  },
  {
   "cell_type": "code",
   "execution_count": 66,
   "metadata": {},
   "outputs": [
    {
     "data": {
      "text/html": [
       "<div>\n",
       "<style scoped>\n",
       "    .dataframe tbody tr th:only-of-type {\n",
       "        vertical-align: middle;\n",
       "    }\n",
       "\n",
       "    .dataframe tbody tr th {\n",
       "        vertical-align: top;\n",
       "    }\n",
       "\n",
       "    .dataframe thead th {\n",
       "        text-align: right;\n",
       "    }\n",
       "</style>\n",
       "<table border=\"1\" class=\"dataframe\">\n",
       "  <thead>\n",
       "    <tr style=\"text-align: right;\">\n",
       "      <th></th>\n",
       "      <th></th>\n",
       "      <th>Level of difficulty</th>\n",
       "      <th>Accessible outside class</th>\n",
       "      <th>Amazing lectures</th>\n",
       "      <th>Caring</th>\n",
       "      <th>Clear grading criteria</th>\n",
       "      <th>Gives good feedback</th>\n",
       "      <th>Hilarious</th>\n",
       "      <th>Inspirational</th>\n",
       "      <th>Participation matters</th>\n",
       "      <th>Respected</th>\n",
       "      <th>Skip class? you won't pass.</th>\n",
       "    </tr>\n",
       "  </thead>\n",
       "  <tbody>\n",
       "    <tr>\n",
       "      <th>berkeley</th>\n",
       "      <th>692</th>\n",
       "      <td>3.9</td>\n",
       "      <td>0.00</td>\n",
       "      <td>0.0</td>\n",
       "      <td>0.00</td>\n",
       "      <td>0.00</td>\n",
       "      <td>0.00</td>\n",
       "      <td>0.00</td>\n",
       "      <td>0.00</td>\n",
       "      <td>0.0</td>\n",
       "      <td>0.00</td>\n",
       "      <td>0.00</td>\n",
       "    </tr>\n",
       "    <tr>\n",
       "      <th>nyu</th>\n",
       "      <th>489</th>\n",
       "      <td>3.5</td>\n",
       "      <td>0.00</td>\n",
       "      <td>0.0</td>\n",
       "      <td>0.00</td>\n",
       "      <td>0.25</td>\n",
       "      <td>0.00</td>\n",
       "      <td>0.00</td>\n",
       "      <td>0.00</td>\n",
       "      <td>0.0</td>\n",
       "      <td>0.00</td>\n",
       "      <td>0.00</td>\n",
       "    </tr>\n",
       "    <tr>\n",
       "      <th rowspan=\"2\" valign=\"top\">uf</th>\n",
       "      <th>1420</th>\n",
       "      <td>3.0</td>\n",
       "      <td>0.08</td>\n",
       "      <td>0.0</td>\n",
       "      <td>0.08</td>\n",
       "      <td>0.00</td>\n",
       "      <td>0.00</td>\n",
       "      <td>0.08</td>\n",
       "      <td>0.25</td>\n",
       "      <td>0.0</td>\n",
       "      <td>0.17</td>\n",
       "      <td>0.00</td>\n",
       "    </tr>\n",
       "    <tr>\n",
       "      <th>4245</th>\n",
       "      <td>3.3</td>\n",
       "      <td>0.00</td>\n",
       "      <td>0.0</td>\n",
       "      <td>0.08</td>\n",
       "      <td>0.00</td>\n",
       "      <td>0.17</td>\n",
       "      <td>0.00</td>\n",
       "      <td>0.08</td>\n",
       "      <td>0.0</td>\n",
       "      <td>0.00</td>\n",
       "      <td>0.25</td>\n",
       "    </tr>\n",
       "    <tr>\n",
       "      <th>berkeley</th>\n",
       "      <th>206</th>\n",
       "      <td>1.9</td>\n",
       "      <td>0.00</td>\n",
       "      <td>0.0</td>\n",
       "      <td>0.20</td>\n",
       "      <td>0.00</td>\n",
       "      <td>0.00</td>\n",
       "      <td>0.00</td>\n",
       "      <td>0.40</td>\n",
       "      <td>0.0</td>\n",
       "      <td>0.40</td>\n",
       "      <td>0.00</td>\n",
       "    </tr>\n",
       "  </tbody>\n",
       "</table>\n",
       "</div>"
      ],
      "text/plain": [
       "               Level of difficulty  Accessible outside class  \\\n",
       "berkeley 692                   3.9                      0.00   \n",
       "nyu      489                   3.5                      0.00   \n",
       "uf       1420                  3.0                      0.08   \n",
       "         4245                  3.3                      0.00   \n",
       "berkeley 206                   1.9                      0.00   \n",
       "\n",
       "               Amazing lectures  Caring  Clear grading criteria  \\\n",
       "berkeley 692                0.0    0.00                    0.00   \n",
       "nyu      489                0.0    0.00                    0.25   \n",
       "uf       1420               0.0    0.08                    0.00   \n",
       "         4245               0.0    0.08                    0.00   \n",
       "berkeley 206                0.0    0.20                    0.00   \n",
       "\n",
       "               Gives good feedback  Hilarious  Inspirational  \\\n",
       "berkeley 692                  0.00       0.00           0.00   \n",
       "nyu      489                  0.00       0.00           0.00   \n",
       "uf       1420                 0.00       0.08           0.25   \n",
       "         4245                 0.17       0.00           0.08   \n",
       "berkeley 206                  0.00       0.00           0.40   \n",
       "\n",
       "               Participation matters  Respected  Skip class? you won't pass.  \n",
       "berkeley 692                     0.0       0.00                         0.00  \n",
       "nyu      489                     0.0       0.00                         0.00  \n",
       "uf       1420                    0.0       0.17                         0.00  \n",
       "         4245                    0.0       0.00                         0.25  \n",
       "berkeley 206                     0.0       0.40                         0.00  "
      ]
     },
     "execution_count": 66,
     "metadata": {},
     "output_type": "execute_result"
    }
   ],
   "source": [
    "X_train.head()"
   ]
  },
  {
   "cell_type": "code",
   "execution_count": 67,
   "metadata": {},
   "outputs": [],
   "source": [
    "X_final=X_train.drop(['Clear grading criteria', \"Skip class? you won't pass.\"],1)"
   ]
  },
  {
   "cell_type": "code",
   "execution_count": 68,
   "metadata": {},
   "outputs": [
    {
     "data": {
      "text/plain": [
       "Index(['Level of difficulty', 'Accessible outside class', 'Amazing lectures',\n",
       "       'Caring', 'Gives good feedback', 'Hilarious', 'Inspirational',\n",
       "       'Participation matters', 'Respected'],\n",
       "      dtype='object')"
      ]
     },
     "execution_count": 68,
     "metadata": {},
     "output_type": "execute_result"
    }
   ],
   "source": [
    "X_final.columns"
   ]
  },
  {
   "cell_type": "code",
   "execution_count": 69,
   "metadata": {},
   "outputs": [
    {
     "data": {
      "text/plain": [
       "(959, 9)"
      ]
     },
     "execution_count": 69,
     "metadata": {},
     "output_type": "execute_result"
    }
   ],
   "source": [
    "X_final.shape"
   ]
  },
  {
   "cell_type": "code",
   "execution_count": null,
   "metadata": {},
   "outputs": [],
   "source": []
  },
  {
   "cell_type": "code",
   "execution_count": 77,
   "metadata": {},
   "outputs": [],
   "source": [
    "#diagnostic_plots.diagnostic_plots(dfs_clean_smaller.drop('Rating', axis=1), dfs_clean_smaller['Rating'])"
   ]
  },
  {
   "cell_type": "code",
   "execution_count": null,
   "metadata": {},
   "outputs": [],
   "source": []
  }
 ],
 "metadata": {
  "kernelspec": {
   "display_name": "Python 3",
   "language": "python",
   "name": "python3"
  },
  "language_info": {
   "codemirror_mode": {
    "name": "ipython",
    "version": 3
   },
   "file_extension": ".py",
   "mimetype": "text/x-python",
   "name": "python",
   "nbconvert_exporter": "python",
   "pygments_lexer": "ipython3",
   "version": "3.6.6"
  }
 },
 "nbformat": 4,
 "nbformat_minor": 2
}
