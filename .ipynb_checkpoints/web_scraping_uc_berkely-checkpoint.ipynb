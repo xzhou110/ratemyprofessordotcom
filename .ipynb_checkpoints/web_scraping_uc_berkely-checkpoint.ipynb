{
 "cells": [
  {
   "cell_type": "markdown",
   "metadata": {},
   "source": [
    "### Being a data scientist, the real sh*t:\n",
    "\n",
    "* Data scientists in real life have multiple goals that fit under the\n",
    "  general category of \"making sense of data\" or \"turning data into\n",
    "  insights\".\n",
    "  * Often we are focused on building a predictive model, and on\n",
    "    maximizing the predictive model's accuracy. Sometimes this focus\n",
    "    is overemphasized. This is a thing that we do, but this is not the\n",
    "    only thing.\n",
    "    * Things that fail are often still interesting insights.\n",
    "    * Anecdotes are often interesting insights.\n",
    "    * The utility of an analysis is independent of the sophistication\n",
    "      of the algorithm. Sometimes the most mind-blowing insights come\n",
    "      from lists, tables, histograms, or scatter plots. Don't throw\n",
    "      out cool stuff that isn't technically advanced unless absolutely\n",
    "      necessary.\n",
    "      * Don't over-design and under-deliver. For every data science\n",
    "        project that you see or hear about, the version in the data\n",
    "        scientist's head was probably fancier, bigger, more\n",
    "        comprehensive, more elegant, presented in a cooler format, or\n",
    "        with better copy, et cetera, ad nauseum. The reason you heard\n",
    "        about it at all, however, is because it was *finished*, and\n",
    "        published or released in all its heart-wrenching\n",
    "        imperfection.\n",
    "        * Start with something small, and build from there, as\n",
    "        necessary, as time allows.\n",
    "        * Jot down the elaborations, next steps, uh-ohs, or grand\n",
    "          ideas that strike you as you are working. Leave them alone\n",
    "          for a while and then come back and look at them later.\n",
    "          * Many things that feel like huge \"uhoh\"s in the heat of the\n",
    "            moment are actually small deals or even false alarms. The\n",
    "            fewer of these you spend time on, the better.\n",
    "\n",
    "\n"
   ]
  },
  {
   "cell_type": "code",
   "execution_count": 33,
   "metadata": {},
   "outputs": [],
   "source": [
    "import requests\n",
    "import re\n",
    "import time\n",
    "import os\n",
    "import pandas as pd\n",
    "from bs4 import BeautifulSoup\n",
    "from IPython.core.display import display, HTML\n",
    "from selenium import webdriver\n",
    "from selenium.webdriver.common.keys import Keys\n",
    "\n",
    "\n",
    "#import diagnostic_plots\n",
    "import patsy\n",
    "import statsmodels.api as sm\n",
    "import statsmodels.formula.api as smf\n",
    "import matplotlib.pyplot as plt\n",
    "import seaborn as sns\n",
    "from sklearn.linear_model import LinearRegression\n",
    "from sklearn import metrics\n",
    "from sklearn.preprocessing import PolynomialFeatures\n",
    "from sklearn.pipeline import make_pipeline\n",
    "from sklearn.cross_validation import train_test_split\n",
    "from sklearn.cross_validation import KFold\n",
    "% matplotlib inline"
   ]
  },
  {
   "cell_type": "code",
   "execution_count": 34,
   "metadata": {},
   "outputs": [
    {
     "name": "stdout",
     "output_type": "stream",
     "text": [
      "200\n",
      "200\n"
     ]
    }
   ],
   "source": [
    "# berkerly-school starting page:  http://www.ratemyprofessors.com/search.jsp?query=&queryoption=HEADER&stateselect=&country=&dept=&queryBy=teacherName&facetSearch=&schoolName=University+of+California+Berkeley&offset=0&max=20\n",
    "# example professor: http://www.ratemyprofessors.com/ShowRatings.jsp?tid=7503\n",
    "\n",
    "# school_url_flex used to generate link of different pages\n",
    "# links with _flex suffix mean the link is flexible and can take in different parameters for website navigation\n",
    "\n",
    "school_url=\"http://www.ratemyprofessors.com/search.jsp?query=&queryoption=HEADER&stateselect=&country=&dept=&queryBy=teacherName&facetSearch=&schoolName=University+of+California+Berkeley&offset=0&max=20\"\n",
    "school_url_flex=\"http://www.ratemyprofessors.com/search.jsp?query=&queryoption=HEADER&stateselect=&country=&dept=&queryBy=teacherName&facetSearch=&schoolName=University+of+California+Berkeley&offset={}&max=20\"\n",
    "prof_url=\"http://www.ratemyprofessors.com/ShowRatings.jsp?tid=7503\"\n",
    "prof_url_flex=\"http://www.ratemyprofessors.com{}\"\n",
    "\n",
    "prof_response=requests.get(prof_url)\n",
    "school_response=requests.get(school_url)\n",
    "\n",
    "print(prof_response.status_code)\n",
    "print(school_response.status_code)\n",
    "\n"
   ]
  },
  {
   "cell_type": "code",
   "execution_count": 35,
   "metadata": {},
   "outputs": [],
   "source": [
    "prof_page=prof_response.text\n",
    "school_page=school_response.text\n",
    "\n",
    "prof_soup = BeautifulSoup(prof_page,\"lxml\")\n",
    "school_soup = BeautifulSoup(school_page,\"lxml\")"
   ]
  },
  {
   "cell_type": "code",
   "execution_count": 36,
   "metadata": {},
   "outputs": [
    {
     "data": {
      "text/plain": [
       "3986"
      ]
     },
     "execution_count": 36,
     "metadata": {},
     "output_type": "execute_result"
    }
   ],
   "source": [
    "# total number of professor listings in a school. Given school soup, retun number of professors\n",
    "\n",
    "def total_professors(school_soup):\n",
    "    for e in school_soup.find_all(class_=\"toppager\"):     #(class_=\"toppager-left\"):\n",
    "        temp=e.find(class_=\"result-count\").text\n",
    "       # name=e.find(class_=\"pfname\").text.strip()+\" \"+e.find(class_=\"plname\").text.strip()\n",
    "        result=re.findall(r'\\d+', temp)\n",
    "        return int(max(result)) #usually the pages shows 1-20 records out of x result. x would be the maximum of the three number\n",
    "\n",
    "total_prof=total_professors(school_soup)\n",
    "total_prof"
   ]
  },
  {
   "cell_type": "code",
   "execution_count": 37,
   "metadata": {},
   "outputs": [
    {
     "data": {
      "text/plain": [
       "200"
      ]
     },
     "execution_count": 37,
     "metadata": {},
     "output_type": "execute_result"
    }
   ],
   "source": [
    "def page_of_listing(total_professors):\n",
    "    pages=total_professors//20+1\n",
    "    return pages\n",
    "\n",
    "test=page_of_listing(total_prof)\n",
    "test"
   ]
  },
  {
   "cell_type": "code",
   "execution_count": 38,
   "metadata": {},
   "outputs": [
    {
     "data": {
      "text/plain": [
       "['http://www.ratemyprofessors.com/search.jsp?query=&queryoption=HEADER&stateselect=&country=&dept=&queryBy=teacherName&facetSearch=&schoolName=University+of+California+Berkeley&offset=0&max=20',\n",
       " 'http://www.ratemyprofessors.com/search.jsp?query=&queryoption=HEADER&stateselect=&country=&dept=&queryBy=teacherName&facetSearch=&schoolName=University+of+California+Berkeley&offset=20&max=20']"
      ]
     },
     "execution_count": 38,
     "metadata": {},
     "output_type": "execute_result"
    }
   ],
   "source": [
    "# given school's flexible url and pages of listing, generae a list of urls of all webpage pages\n",
    "def page_urls(url_flex, pages):\n",
    "    list_urls=[]\n",
    "    for i in range (0,pages):\n",
    "        offset=i*20\n",
    "        page_url=url_flex.format(offset)\n",
    "        list_urls.append(page_url)\n",
    "    return list_urls\n",
    "\n",
    "test_urls=page_urls(school_url_flex, 2)\n",
    "test_urls\n",
    "\n"
   ]
  },
  {
   "cell_type": "code",
   "execution_count": 39,
   "metadata": {},
   "outputs": [
    {
     "data": {
      "text/plain": [
       "['http://www.ratemyprofessors.com/ShowRatings.jsp?tid=628',\n",
       " 'http://www.ratemyprofessors.com/ShowRatings.jsp?tid=814',\n",
       " 'http://www.ratemyprofessors.com/ShowRatings.jsp?tid=7503',\n",
       " 'http://www.ratemyprofessors.com/ShowRatings.jsp?tid=7745',\n",
       " 'http://www.ratemyprofessors.com/ShowRatings.jsp?tid=7746',\n",
       " 'http://www.ratemyprofessors.com/ShowRatings.jsp?tid=8307',\n",
       " 'http://www.ratemyprofessors.com/ShowRatings.jsp?tid=9281',\n",
       " 'http://www.ratemyprofessors.com/ShowRatings.jsp?tid=11539',\n",
       " 'http://www.ratemyprofessors.com/ShowRatings.jsp?tid=12105',\n",
       " 'http://www.ratemyprofessors.com/ShowRatings.jsp?tid=12108',\n",
       " 'http://www.ratemyprofessors.com/ShowRatings.jsp?tid=12109',\n",
       " 'http://www.ratemyprofessors.com/ShowRatings.jsp?tid=12110',\n",
       " 'http://www.ratemyprofessors.com/ShowRatings.jsp?tid=12701',\n",
       " 'http://www.ratemyprofessors.com/ShowRatings.jsp?tid=13904',\n",
       " 'http://www.ratemyprofessors.com/ShowRatings.jsp?tid=13905',\n",
       " 'http://www.ratemyprofessors.com/ShowRatings.jsp?tid=16984',\n",
       " 'http://www.ratemyprofessors.com/ShowRatings.jsp?tid=22042',\n",
       " 'http://www.ratemyprofessors.com/ShowRatings.jsp?tid=22047',\n",
       " 'http://www.ratemyprofessors.com/ShowRatings.jsp?tid=22049',\n",
       " 'http://www.ratemyprofessors.com/ShowRatings.jsp?tid=23221',\n",
       " 'http://www.ratemyprofessors.com/ShowRatings.jsp?tid=25169',\n",
       " 'http://www.ratemyprofessors.com/ShowRatings.jsp?tid=25984',\n",
       " 'http://www.ratemyprofessors.com/ShowRatings.jsp?tid=25988',\n",
       " 'http://www.ratemyprofessors.com/ShowRatings.jsp?tid=25992',\n",
       " 'http://www.ratemyprofessors.com/ShowRatings.jsp?tid=34514',\n",
       " 'http://www.ratemyprofessors.com/ShowRatings.jsp?tid=34516',\n",
       " 'http://www.ratemyprofessors.com/ShowRatings.jsp?tid=35004',\n",
       " 'http://www.ratemyprofessors.com/ShowRatings.jsp?tid=35657',\n",
       " 'http://www.ratemyprofessors.com/ShowRatings.jsp?tid=36956',\n",
       " 'http://www.ratemyprofessors.com/ShowRatings.jsp?tid=38531',\n",
       " 'http://www.ratemyprofessors.com/ShowRatings.jsp?tid=38534',\n",
       " 'http://www.ratemyprofessors.com/ShowRatings.jsp?tid=38536',\n",
       " 'http://www.ratemyprofessors.com/ShowRatings.jsp?tid=38538',\n",
       " 'http://www.ratemyprofessors.com/ShowRatings.jsp?tid=41457',\n",
       " 'http://www.ratemyprofessors.com/ShowRatings.jsp?tid=41469',\n",
       " 'http://www.ratemyprofessors.com/ShowRatings.jsp?tid=41470',\n",
       " 'http://www.ratemyprofessors.com/ShowRatings.jsp?tid=41471',\n",
       " 'http://www.ratemyprofessors.com/ShowRatings.jsp?tid=41475',\n",
       " 'http://www.ratemyprofessors.com/ShowRatings.jsp?tid=48602',\n",
       " 'http://www.ratemyprofessors.com/ShowRatings.jsp?tid=48603']"
      ]
     },
     "execution_count": 39,
     "metadata": {},
     "output_type": "execute_result"
    }
   ],
   "source": [
    "# generate links for professsors. Give list of page_links, find out a list of links for professors\n",
    "\n",
    "\n",
    "def prof_urls(page_links, url_flex):\n",
    "    url_listing=[]\n",
    "    for link in page_links:\n",
    "        temp_response=requests.get(link)\n",
    "        temp_page=temp_response.text\n",
    "        temp_soup = BeautifulSoup(temp_page,\"lxml\")\n",
    "        for e in temp_soup.find_all('li',class_=\"listing PROFESSOR\"):  \n",
    "            temp= e.find('a')['href']\n",
    "            prof_url=prof_url_flex.format(temp)\n",
    "            url_listing.append(prof_url)\n",
    "    return url_listing\n",
    "                    \n",
    "    \n",
    "test_prof_urls=prof_urls(test_urls, prof_url_flex)\n",
    "test_prof_urls\n"
   ]
  },
  {
   "cell_type": "code",
   "execution_count": 40,
   "metadata": {},
   "outputs": [
    {
     "data": {
      "text/plain": [
       "'Bob Calonico'"
      ]
     },
     "execution_count": 40,
     "metadata": {},
     "output_type": "execute_result"
    }
   ],
   "source": [
    "# grab professor name. Given school soup, retun string\n",
    "\n",
    "def get_name(prof_soup):\n",
    "    name=\"\"\n",
    "    if prof_soup.find_all(class_=\"profname\"):\n",
    "        for e in prof_soup.find_all(class_=\"profname\"):\n",
    "            name=e.find(class_=\"pfname\").text.strip()+\" \"+e.find(class_=\"plname\").text.strip()\n",
    "    return name\n",
    "\n",
    "get_name (prof_soup)"
   ]
  },
  {
   "cell_type": "code",
   "execution_count": 41,
   "metadata": {
    "scrolled": true
   },
   "outputs": [
    {
     "data": {
      "text/plain": [
       "4.7"
      ]
     },
     "execution_count": 41,
     "metadata": {},
     "output_type": "execute_result"
    }
   ],
   "source": [
    "# Grab the rating of professor. Given Soup, retun float\n",
    "\n",
    "def get_rating(prof_soup):\n",
    "    temp=\"\"\n",
    "    if prof_soup.find(class_=\"breakdown-container quality\"):\n",
    "        temp=prof_soup.find(class_=\"breakdown-container quality\")\n",
    "    if temp: \n",
    "        s=temp.find(class_='grade')\n",
    "        return float(s.text)\n",
    "    else: \n",
    "        return (0)\n",
    "            \n",
    "            \n",
    "get_rating(prof_soup)\n",
    "        \n",
    "# can be list of strings"
   ]
  },
  {
   "cell_type": "code",
   "execution_count": 42,
   "metadata": {},
   "outputs": [
    {
     "data": {
      "text/plain": [
       "1.6"
      ]
     },
     "execution_count": 42,
     "metadata": {},
     "output_type": "execute_result"
    }
   ],
   "source": [
    "# Grab the level of difficulty of the professor. iven Soup, retun float\n",
    "\n",
    "def get_level_of_difficulty(prof_soup):\n",
    "    \n",
    "    if prof_soup.find(class_=\"breakdown-section difficulty\"):\n",
    "    \n",
    "        level_of_difficulty=prof_soup.find(class_=\"breakdown-section difficulty\").stripped_strings\n",
    "\n",
    "        return float(list (level_of_difficulty)[1])\n",
    "    else:\n",
    "        return (2.5) #return average difficulty level if no value\n",
    "\n",
    "get_level_of_difficulty(prof_soup)\n",
    "    \n"
   ]
  },
  {
   "cell_type": "code",
   "execution_count": 43,
   "metadata": {},
   "outputs": [
    {
     "data": {
      "text/plain": [
       "29"
      ]
     },
     "execution_count": 43,
     "metadata": {},
     "output_type": "execute_result"
    }
   ],
   "source": [
    "# Grab total number reviews\n",
    "\n",
    "def get_number_reviews(prof_soup):\n",
    "    \n",
    "    if prof_soup.find('div',class_=\"table-toggle rating-count active\"):\n",
    "        text=prof_soup.find('div',class_=\"table-toggle rating-count active\").text.strip()\n",
    "        num_students=int(re.findall(r'\\d+', text, re.I)[0])\n",
    "        return num_students\n",
    "    else:\n",
    "        return (0)\n",
    "\n",
    "get_number_reviews(prof_soup)"
   ]
  },
  {
   "cell_type": "code",
   "execution_count": 44,
   "metadata": {},
   "outputs": [
    {
     "data": {
      "text/plain": [
       "['Accessible outside class',\n",
       " 'Amazing lectures',\n",
       " 'Beware of pop quizzes',\n",
       " 'Caring',\n",
       " 'Clear grading criteria',\n",
       " 'Extra credit',\n",
       " 'Get ready to read',\n",
       " 'Gives good feedback',\n",
       " 'Graded by few things',\n",
       " 'Group projects',\n",
       " 'Hilarious',\n",
       " 'Inspirational',\n",
       " 'Lecture heavy',\n",
       " 'Lots of homework',\n",
       " 'Participation matters',\n",
       " 'Respected',\n",
       " \"Skip class? you won't pass.\",\n",
       " 'So many papers',\n",
       " 'Test heavy',\n",
       " 'Tough grader']"
      ]
     },
     "execution_count": 44,
     "metadata": {},
     "output_type": "execute_result"
    }
   ],
   "source": [
    "# get all tags of professor\n",
    "tags_url=\"http://www.ratemyprofessors.com/AddRating.jsp?tid=9670\"\n",
    "tags_page=requests.get(tags_url).text\n",
    "tags_soup = BeautifulSoup(tags_page,\"lxml\")\n",
    "\n",
    "all_tags=[]\n",
    "for e in tags_soup.find_all('div', class_=\"scrollable\"):  #entire tag\n",
    "    for f in e.find_all('a',class_=''): #each tag was embed in tag-box-choosetags class\n",
    "        all_tags.append (f.text.strip().capitalize())\n",
    "all_tags.sort()\n",
    "all_tags\n"
   ]
  },
  {
   "cell_type": "code",
   "execution_count": 45,
   "metadata": {},
   "outputs": [
    {
     "data": {
      "text/plain": [
       "{'Accessible outside class': 0.05,\n",
       " 'Caring': 0.26,\n",
       " 'Hilarious': 0.26,\n",
       " 'Inspirational': 0.32,\n",
       " 'Respected': 0.11}"
      ]
     },
     "execution_count": 45,
     "metadata": {},
     "output_type": "execute_result"
    }
   ],
   "source": [
    "'''\n",
    "all_tags=['Tough Grader',\n",
    " 'Gives good feedback',\n",
    " 'Respected',\n",
    " 'Get ready to read',\n",
    " 'Participation matters',\n",
    " \"Skip class? You won't pass.\",\n",
    " 'LOTS OF HOMEWORK',\n",
    " 'Inspirational',\n",
    " 'BEWARE OF POP QUIZZES',\n",
    " 'ACCESSIBLE OUTSIDE CLASS',\n",
    " 'SO MANY PAPERS',\n",
    " 'Clear grading criteria',\n",
    " 'Hilarious',\n",
    " 'TEST HEAVY',\n",
    " 'GRADED BY FEW THINGS',\n",
    " 'Amazing lectures',\n",
    " 'Caring',\n",
    " 'EXTRA CREDIT',\n",
    " 'GROUP PROJECTS',\n",
    " 'LECTURE HEAVY']\n",
    "'''\n",
    "# Grab the main tags of the professor. Given soup, return tags\n",
    "\n",
    "\n",
    "def get_tags(prof_soup):\n",
    "    list_of_tags=[]\n",
    "    dic={}\n",
    "    total_count=0\n",
    "    for e in prof_soup.find_all(class_=\"tag-box\"):  #entire tag\n",
    "        for f in e.find_all(class_='tag-box-choosetags'): #each tag was embed in tag-box-choosetags class\n",
    "            list_of_tags.append (f.text.strip())\n",
    "    \n",
    "    # sort result list for efficiency\n",
    "    list_of_tags.sort()\n",
    "    \n",
    "    #split text and add the count to each tag\n",
    "    for i in list_of_tags:\n",
    "        category=re.findall(r'[^\\(]*', i, re.I)[0].strip().capitalize()\n",
    "        count=int(re.findall(r'\\d', i, re.I)[0])\n",
    "        dic[category]=count\n",
    "        total_count+=count\n",
    "    \n",
    "    #normalize the count for each tag\n",
    "    for key in dic:\n",
    "        dic[key]=round(dic[key]/total_count,2)\n",
    "           \n",
    "    return dic\n",
    "    \n",
    "    \n",
    "    \n",
    "have=get_tags(prof_soup)\n",
    "have\n"
   ]
  },
  {
   "cell_type": "code",
   "execution_count": 46,
   "metadata": {},
   "outputs": [
    {
     "data": {
      "text/plain": [
       "[0.05, 0, 0, 0.26, 0, 0, 0, 0, 0, 0, 0.26, 0.32, 0, 0, 0, 0.11, 0, 0, 0, 0]"
      ]
     },
     "execution_count": 46,
     "metadata": {},
     "output_type": "execute_result"
    }
   ],
   "source": [
    "# Count and normalize all tags a professor has in review and return a list of counts\n",
    "# All tags is a lit and repreents entire listing of tags. Have_tags is a dictionary with normalized count of tags\n",
    "\n",
    "def tag_count(all_tags, have_tags):\n",
    "    dic={}\n",
    "    lis=[]\n",
    "    for key in all_tags:\n",
    "        dic[key]=0\n",
    "    \n",
    "    for key in have_tags:\n",
    "        if key in all_tags:\n",
    "            dic[key]=have_tags[key]\n",
    "    \n",
    "    for key in all_tags:\n",
    "        lis.append(dic[key])\n",
    "    \n",
    "    return lis\n",
    "\n",
    "tag_count(all_tags, have)\n",
    "          "
   ]
  },
  {
   "cell_type": "code",
   "execution_count": 47,
   "metadata": {},
   "outputs": [
    {
     "name": "stdout",
     "output_type": "stream",
     "text": [
      "Total professors: 3986 Pages: 200\n"
     ]
    }
   ],
   "source": [
    "\n",
    "total_prof=total_professors(school_soup)\n",
    "pages=page_of_listing(total_prof)\n",
    "\n",
    "result_urls=page_urls(school_url_flex, pages)\n",
    "\n",
    "print (\"Total professors: \"+str(total_prof), \"Pages: \"+str(pages))\n",
    "\n",
    "def scrape_data(urls):\n",
    "    data=[]\n",
    "    temp_page_links=prof_urls(urls, prof_url_flex)\n",
    "    for index, link2 in enumerate(temp_page_links):\n",
    "        # added statement to skip error as needed\n",
    "        try:         \n",
    "            temp=[]\n",
    "            temp_response=requests.get(link2)\n",
    "            temp_page=temp_response.text\n",
    "            temp_soup = BeautifulSoup(temp_page,\"lxml\")\n",
    "            temp_name=get_name (temp_soup)\n",
    "            temp_rating=get_rating(temp_soup)\n",
    "            temp_difficulty=get_level_of_difficulty(temp_soup)\n",
    "            temp_numbers_reviews=get_number_reviews(temp_soup)\n",
    "            have_tags=get_tags(temp_soup) \n",
    "            temp_tags=tag_count(all_tags, have_tags)\n",
    "\n",
    "            temp.extend([temp_name, temp_rating, temp_difficulty,temp_numbers_reviews])\n",
    "            temp.extend(temp_tags)\n",
    "\n",
    "            print(str(index)+\", \",end=\"\") # count the instance. print on same line\n",
    "            data.append(temp)\n",
    "            time.sleep(1)\n",
    "        except:\n",
    "            continue\n",
    "    return data\n",
    "\n",
    "\n",
    "                    \n",
    "    "
   ]
  },
  {
   "cell_type": "code",
   "execution_count": 48,
   "metadata": {},
   "outputs": [
    {
     "data": {
      "text/plain": [
       "['Name',\n",
       " 'Rating',\n",
       " 'Level of difficulty',\n",
       " 'Total reviews',\n",
       " 'Accessible outside class',\n",
       " 'Amazing lectures',\n",
       " 'Beware of pop quizzes',\n",
       " 'Caring',\n",
       " 'Clear grading criteria',\n",
       " 'Extra credit',\n",
       " 'Get ready to read',\n",
       " 'Gives good feedback',\n",
       " 'Graded by few things',\n",
       " 'Group projects',\n",
       " 'Hilarious',\n",
       " 'Inspirational',\n",
       " 'Lecture heavy',\n",
       " 'Lots of homework',\n",
       " 'Participation matters',\n",
       " 'Respected',\n",
       " \"Skip class? you won't pass.\",\n",
       " 'So many papers',\n",
       " 'Test heavy',\n",
       " 'Tough grader']"
      ]
     },
     "execution_count": 48,
     "metadata": {},
     "output_type": "execute_result"
    }
   ],
   "source": [
    "column_names=['Name', 'Rating', 'Level of difficulty','Total reviews']\n",
    "column_names.extend(all_tags)\n",
    "column_names"
   ]
  },
  {
   "cell_type": "code",
   "execution_count": 49,
   "metadata": {},
   "outputs": [],
   "source": [
    "#save to pick for efficiency\n",
    "\n",
    "import pickle\n",
    "\n",
    "filename = '/Users/xzhou/github/project_files/project_luther/professor_data_berkely.pkl' #3986 records\n",
    "\n",
    "try:\n",
    "    with open(filename,'rb') as pklfile:\n",
    "        df = pickle.load(pklfile)\n",
    "except:\n",
    "    result=scrape_data(result_urls)\n",
    "    df=pd.DataFrame(result, columns=column_names)\n",
    "    with open(filename,'wb') as pklfile:\n",
    "        df = pickle.dump(df, pklfile)"
   ]
  },
  {
   "cell_type": "code",
   "execution_count": 50,
   "metadata": {},
   "outputs": [
    {
     "data": {
      "text/html": [
       "<div>\n",
       "<style scoped>\n",
       "    .dataframe tbody tr th:only-of-type {\n",
       "        vertical-align: middle;\n",
       "    }\n",
       "\n",
       "    .dataframe tbody tr th {\n",
       "        vertical-align: top;\n",
       "    }\n",
       "\n",
       "    .dataframe thead th {\n",
       "        text-align: right;\n",
       "    }\n",
       "</style>\n",
       "<table border=\"1\" class=\"dataframe\">\n",
       "  <thead>\n",
       "    <tr style=\"text-align: right;\">\n",
       "      <th></th>\n",
       "      <th>Name</th>\n",
       "      <th>Rating</th>\n",
       "      <th>Level of difficulty</th>\n",
       "      <th>Total reviews</th>\n",
       "      <th>Accessible outside class</th>\n",
       "      <th>Amazing lectures</th>\n",
       "      <th>Beware of pop quizzes</th>\n",
       "      <th>Caring</th>\n",
       "      <th>Clear grading criteria</th>\n",
       "      <th>Extra credit</th>\n",
       "      <th>...</th>\n",
       "      <th>Hilarious</th>\n",
       "      <th>Inspirational</th>\n",
       "      <th>Lecture heavy</th>\n",
       "      <th>Lots of homework</th>\n",
       "      <th>Participation matters</th>\n",
       "      <th>Respected</th>\n",
       "      <th>Skip class? you won't pass.</th>\n",
       "      <th>So many papers</th>\n",
       "      <th>Test heavy</th>\n",
       "      <th>Tough grader</th>\n",
       "    </tr>\n",
       "  </thead>\n",
       "  <tbody>\n",
       "    <tr>\n",
       "      <th>0</th>\n",
       "      <td>Jerry Sanders</td>\n",
       "      <td>2.7</td>\n",
       "      <td>3.4</td>\n",
       "      <td>75</td>\n",
       "      <td>0.00</td>\n",
       "      <td>0.00</td>\n",
       "      <td>0.0</td>\n",
       "      <td>0.00</td>\n",
       "      <td>0.00</td>\n",
       "      <td>0.00</td>\n",
       "      <td>...</td>\n",
       "      <td>0.00</td>\n",
       "      <td>0.00</td>\n",
       "      <td>0.00</td>\n",
       "      <td>0.0</td>\n",
       "      <td>0.00</td>\n",
       "      <td>0.00</td>\n",
       "      <td>0.00</td>\n",
       "      <td>0.0</td>\n",
       "      <td>0.0</td>\n",
       "      <td>0.00</td>\n",
       "    </tr>\n",
       "    <tr>\n",
       "      <th>1</th>\n",
       "      <td>Chris Dolder</td>\n",
       "      <td>4.8</td>\n",
       "      <td>3.9</td>\n",
       "      <td>9</td>\n",
       "      <td>0.00</td>\n",
       "      <td>0.00</td>\n",
       "      <td>0.0</td>\n",
       "      <td>0.00</td>\n",
       "      <td>0.00</td>\n",
       "      <td>0.00</td>\n",
       "      <td>...</td>\n",
       "      <td>0.00</td>\n",
       "      <td>0.50</td>\n",
       "      <td>0.00</td>\n",
       "      <td>0.0</td>\n",
       "      <td>0.00</td>\n",
       "      <td>0.00</td>\n",
       "      <td>0.00</td>\n",
       "      <td>0.0</td>\n",
       "      <td>0.0</td>\n",
       "      <td>0.00</td>\n",
       "    </tr>\n",
       "    <tr>\n",
       "      <th>2</th>\n",
       "      <td>Bob Calonico</td>\n",
       "      <td>4.7</td>\n",
       "      <td>1.6</td>\n",
       "      <td>29</td>\n",
       "      <td>0.05</td>\n",
       "      <td>0.00</td>\n",
       "      <td>0.0</td>\n",
       "      <td>0.26</td>\n",
       "      <td>0.00</td>\n",
       "      <td>0.00</td>\n",
       "      <td>...</td>\n",
       "      <td>0.26</td>\n",
       "      <td>0.32</td>\n",
       "      <td>0.00</td>\n",
       "      <td>0.0</td>\n",
       "      <td>0.00</td>\n",
       "      <td>0.11</td>\n",
       "      <td>0.00</td>\n",
       "      <td>0.0</td>\n",
       "      <td>0.0</td>\n",
       "      <td>0.00</td>\n",
       "    </tr>\n",
       "    <tr>\n",
       "      <th>3</th>\n",
       "      <td>Zack Powell</td>\n",
       "      <td>2.1</td>\n",
       "      <td>3.0</td>\n",
       "      <td>15</td>\n",
       "      <td>0.00</td>\n",
       "      <td>0.00</td>\n",
       "      <td>0.0</td>\n",
       "      <td>0.00</td>\n",
       "      <td>0.00</td>\n",
       "      <td>0.00</td>\n",
       "      <td>...</td>\n",
       "      <td>0.00</td>\n",
       "      <td>0.00</td>\n",
       "      <td>0.00</td>\n",
       "      <td>0.0</td>\n",
       "      <td>0.00</td>\n",
       "      <td>0.00</td>\n",
       "      <td>0.00</td>\n",
       "      <td>0.0</td>\n",
       "      <td>0.0</td>\n",
       "      <td>0.00</td>\n",
       "    </tr>\n",
       "    <tr>\n",
       "      <th>4</th>\n",
       "      <td>Mary Kelsey</td>\n",
       "      <td>4.6</td>\n",
       "      <td>1.6</td>\n",
       "      <td>63</td>\n",
       "      <td>0.04</td>\n",
       "      <td>0.04</td>\n",
       "      <td>0.0</td>\n",
       "      <td>0.12</td>\n",
       "      <td>0.08</td>\n",
       "      <td>0.27</td>\n",
       "      <td>...</td>\n",
       "      <td>0.00</td>\n",
       "      <td>0.08</td>\n",
       "      <td>0.04</td>\n",
       "      <td>0.0</td>\n",
       "      <td>0.08</td>\n",
       "      <td>0.12</td>\n",
       "      <td>0.04</td>\n",
       "      <td>0.0</td>\n",
       "      <td>0.0</td>\n",
       "      <td>0.04</td>\n",
       "    </tr>\n",
       "  </tbody>\n",
       "</table>\n",
       "<p>5 rows × 24 columns</p>\n",
       "</div>"
      ],
      "text/plain": [
       "            Name  Rating  Level of difficulty  Total reviews  \\\n",
       "0  Jerry Sanders     2.7                  3.4             75   \n",
       "1   Chris Dolder     4.8                  3.9              9   \n",
       "2   Bob Calonico     4.7                  1.6             29   \n",
       "3    Zack Powell     2.1                  3.0             15   \n",
       "4    Mary Kelsey     4.6                  1.6             63   \n",
       "\n",
       "   Accessible outside class  Amazing lectures  Beware of pop quizzes  Caring  \\\n",
       "0                      0.00              0.00                    0.0    0.00   \n",
       "1                      0.00              0.00                    0.0    0.00   \n",
       "2                      0.05              0.00                    0.0    0.26   \n",
       "3                      0.00              0.00                    0.0    0.00   \n",
       "4                      0.04              0.04                    0.0    0.12   \n",
       "\n",
       "   Clear grading criteria  Extra credit      ...       Hilarious  \\\n",
       "0                    0.00          0.00      ...            0.00   \n",
       "1                    0.00          0.00      ...            0.00   \n",
       "2                    0.00          0.00      ...            0.26   \n",
       "3                    0.00          0.00      ...            0.00   \n",
       "4                    0.08          0.27      ...            0.00   \n",
       "\n",
       "   Inspirational  Lecture heavy  Lots of homework  Participation matters  \\\n",
       "0           0.00           0.00               0.0                   0.00   \n",
       "1           0.50           0.00               0.0                   0.00   \n",
       "2           0.32           0.00               0.0                   0.00   \n",
       "3           0.00           0.00               0.0                   0.00   \n",
       "4           0.08           0.04               0.0                   0.08   \n",
       "\n",
       "   Respected  Skip class? you won't pass.  So many papers  Test heavy  \\\n",
       "0       0.00                         0.00             0.0         0.0   \n",
       "1       0.00                         0.00             0.0         0.0   \n",
       "2       0.11                         0.00             0.0         0.0   \n",
       "3       0.00                         0.00             0.0         0.0   \n",
       "4       0.12                         0.04             0.0         0.0   \n",
       "\n",
       "   Tough grader  \n",
       "0          0.00  \n",
       "1          0.00  \n",
       "2          0.00  \n",
       "3          0.00  \n",
       "4          0.04  \n",
       "\n",
       "[5 rows x 24 columns]"
      ]
     },
     "execution_count": 50,
     "metadata": {},
     "output_type": "execute_result"
    }
   ],
   "source": [
    "df.head()"
   ]
  },
  {
   "cell_type": "code",
   "execution_count": 51,
   "metadata": {},
   "outputs": [
    {
     "name": "stdout",
     "output_type": "stream",
     "text": [
      "<class 'pandas.core.frame.DataFrame'>\n",
      "RangeIndex: 3986 entries, 0 to 3985\n",
      "Data columns (total 24 columns):\n",
      "Name                           3986 non-null object\n",
      "Rating                         3986 non-null float64\n",
      "Level of difficulty            3986 non-null float64\n",
      "Total reviews                  3986 non-null int64\n",
      "Accessible outside class       3986 non-null float64\n",
      "Amazing lectures               3986 non-null float64\n",
      "Beware of pop quizzes          3986 non-null float64\n",
      "Caring                         3986 non-null float64\n",
      "Clear grading criteria         3986 non-null float64\n",
      "Extra credit                   3986 non-null float64\n",
      "Get ready to read              3986 non-null float64\n",
      "Gives good feedback            3986 non-null float64\n",
      "Graded by few things           3986 non-null float64\n",
      "Group projects                 3986 non-null float64\n",
      "Hilarious                      3986 non-null float64\n",
      "Inspirational                  3986 non-null float64\n",
      "Lecture heavy                  3986 non-null float64\n",
      "Lots of homework               3986 non-null float64\n",
      "Participation matters          3986 non-null float64\n",
      "Respected                      3986 non-null float64\n",
      "Skip class? you won't pass.    3986 non-null float64\n",
      "So many papers                 3986 non-null float64\n",
      "Test heavy                     3986 non-null float64\n",
      "Tough grader                   3986 non-null float64\n",
      "dtypes: float64(22), int64(1), object(1)\n",
      "memory usage: 747.5+ KB\n"
     ]
    }
   ],
   "source": [
    "df.info()"
   ]
  },
  {
   "cell_type": "code",
   "execution_count": null,
   "metadata": {},
   "outputs": [],
   "source": []
  }
 ],
 "metadata": {
  "kernelspec": {
   "display_name": "Python 3",
   "language": "python",
   "name": "python3"
  },
  "language_info": {
   "codemirror_mode": {
    "name": "ipython",
    "version": 3
   },
   "file_extension": ".py",
   "mimetype": "text/x-python",
   "name": "python",
   "nbconvert_exporter": "python",
   "pygments_lexer": "ipython3",
   "version": "3.6.6"
  }
 },
 "nbformat": 4,
 "nbformat_minor": 2
}
